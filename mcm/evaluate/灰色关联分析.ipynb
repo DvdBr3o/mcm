{
 "cells": [
  {
   "cell_type": "markdown",
   "id": "76f77e57",
   "metadata": {},
   "source": [
    "# 灰色关联分析\n",
    "\n",
    "## 模型\n",
    "\n",
    "通过比较两个指标的变化曲线趋势，判断两个指标的相关性"
   ]
  },
  {
   "cell_type": "markdown",
   "id": "5a933be4",
   "metadata": {},
   "source": [
    "## 实现"
   ]
  },
  {
   "cell_type": "code",
   "execution_count": 13,
   "id": "309a1078",
   "metadata": {},
   "outputs": [],
   "source": [
    "import numpy as np\n",
    "\n",
    "#! 修改输入数据\n",
    "data = np.array([\n",
    "    [55, 24, 10],\n",
    "    [65, 38, 22],\n",
    "    [75, 40, 18],\n",
    "    [100, 50, 20],\n",
    "])\n",
    "\n",
    "#! 修改分辨系数\n",
    "RHO = 0.5"
   ]
  },
  {
   "cell_type": "code",
   "execution_count": 14,
   "id": "33d2d666",
   "metadata": {},
   "outputs": [
    {
     "name": "stdout",
     "output_type": "stream",
     "text": [
      "预处理后数据： [[0.74576271 0.63157895 0.57142857]\n",
      " [0.88135593 1.         1.25714286]\n",
      " [1.01694915 1.05263158 1.02857143]\n",
      " [1.3559322  1.31578947 1.14285714]]\n"
     ]
    }
   ],
   "source": [
    "# 预处理\n",
    "mean = np.mean(data, axis=0)\n",
    "\n",
    "data_norm = data / mean\n",
    "\n",
    "print(\"预处理后数据：\", data_norm)"
   ]
  },
  {
   "cell_type": "code",
   "execution_count": 15,
   "id": "a5b32aba",
   "metadata": {},
   "outputs": [
    {
     "name": "stdout",
     "output_type": "stream",
     "text": [
      "子序列中各指标灰色关联度： [0.76966578 0.60058464]\n"
     ]
    }
   ],
   "source": [
    "# 母序列\n",
    "Y = data_norm[:, 0]\n",
    "# 子序列\n",
    "X = data_norm[:, 1:]\n",
    "\n",
    "# |X_0-X_i|，其中 Y = X_0\n",
    "absx0xi = np.abs(X - np.tile(Y.reshape(-1, 1), (1, X.shape[1])))\n",
    "# 最小差\n",
    "a = np.min(absx0xi)\n",
    "# 最大差\n",
    "b = np.max(absx0xi)\n",
    "\n",
    "# 计算子序列关联系数\n",
    "gamma = (a + RHO * b) / (absx0xi + RHO * b)\n",
    "print(\"子序列中各指标灰色关联度：\", np.mean(gamma, axis=0))"
   ]
  }
 ],
 "metadata": {
  "kernelspec": {
   "display_name": "mcm",
   "language": "python",
   "name": "python3"
  },
  "language_info": {
   "codemirror_mode": {
    "name": "ipython",
    "version": 3
   },
   "file_extension": ".py",
   "mimetype": "text/x-python",
   "name": "python",
   "nbconvert_exporter": "python",
   "pygments_lexer": "ipython3",
   "version": "3.12.9"
  }
 },
 "nbformat": 4,
 "nbformat_minor": 5
}
