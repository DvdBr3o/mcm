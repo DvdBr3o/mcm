{
 "cells": [
  {
   "cell_type": "markdown",
   "id": "e6789ef5",
   "metadata": {},
   "source": [
    "# Topsis 评价模型\n",
    "\n",
    "## 模型\n",
    "\n",
    "形象根据距离概念，给出多指标下的综合评分\n",
    "\n",
    "要点在于找出理想最优/最劣点，再求各方案与两者的距离\n",
    "\n",
    "### 正向化\n",
    "\n",
    "指标 $\\rightarrow$ **极大型**指标\n",
    "\n",
    "指标分为：\n",
    "\n",
    "- 极大型：越大越好\n",
    "\n",
    "    $\\hat{x} = x$\n",
    "\n",
    "- 极小型：越小越好\n",
    "\n",
    "    $\\hat{x} = \\max - x$\n",
    "\n",
    "- 中间型：越靠近某值越好\n",
    "\n",
    "    $\\hat{x}_{i} = 1 - \\frac{\\left|x_{i} - x_{best}\\right|}{\\max \\{ \\left|x_{i} - x_{best}\\right| \\}}$\n",
    "\n",
    "- 区间型：落在某区间最好\n",
    "\n",
    "    ![](./topsis_1.png)\n",
    "\n",
    "### 标准化\n",
    "\n",
    "消除量纲影响"
   ]
  },
  {
   "cell_type": "markdown",
   "id": "a5244e32",
   "metadata": {},
   "source": [
    "## 预实现"
   ]
  },
  {
   "cell_type": "code",
   "execution_count": 7,
   "id": "de1a00f9",
   "metadata": {},
   "outputs": [],
   "source": [
    "import numpy as np\n",
    "\n",
    "# 正向化处理\n",
    "\n",
    "## 处理极小型\n",
    "def handle_min_best(x: np.ndarray):\n",
    "    return x.max(0) - x\n",
    "\n",
    "## 处理中间型\n",
    "def handle_middle_best(x: np.ndarray, best):\n",
    "    return 1 - np.abs(x - best) / np.max(np.abs(x - best))\n",
    "\n",
    "## 处理区间型\n",
    "def handle_area_best(x: np.ndarray, l, r):\n",
    "    M = np.append(l - np.min(x), np.max(x) - r).max()\n",
    "    return \\\n",
    "        np.where(\n",
    "            x < l, \n",
    "            1 - (l - x) / M,\n",
    "            np.where(\n",
    "                x > r, \n",
    "                1 - (x - r) / M,\n",
    "                1      \n",
    "            ))\n",
    "        \n",
    "## 标准化\n",
    "def standardize(x: np.ndarray):\n",
    "    tep1 = (x * x).sum(axis=0) # 每个元素平方后按列相加\n",
    "    tep2 = np.tile(tep1, (x.shape[0], 1))  # 将矩阵tep_x1平铺n行\n",
    "    return x / ((tep2) ** 0.5)"
   ]
  },
  {
   "cell_type": "markdown",
   "id": "43f62d71",
   "metadata": {},
   "source": [
    "## 实现"
   ]
  },
  {
   "cell_type": "code",
   "execution_count": 8,
   "id": "6da49a15",
   "metadata": {},
   "outputs": [
    {
     "name": "stdout",
     "output_type": "stream",
     "text": [
      "[[ 0.33333333  0.5         0.66666667  0.83333333  1.          0.33333333\n",
      "   0.        ]\n",
      " [99.         98.          0.         96.         98.         91.\n",
      "  89.        ]\n",
      " [ 0.95918367  0.24489796  1.          1.          0.          0.95918367\n",
      "   0.91836735]]\n",
      "预处理后数据：\n",
      " [[0.00336683 0.00510196 0.5547002  0.00867976 0.01020355 0.00366278\n",
      "  0.        ]\n",
      " [0.9999474  0.99998386 0.         0.99990808 0.99994794 0.99993775\n",
      "  0.99994677]\n",
      " [0.00968821 0.00249892 0.83205029 0.01041571 0.         0.01053982\n",
      "  0.01031818]]\n"
     ]
    }
   ],
   "source": [
    "import numpy as np\n",
    "# import pandas as pd\n",
    "# import openpyxl as xl\n",
    "\n",
    "#! 修改数据读入\n",
    "data = np.array([[1, 2, 3, 4, 5, 9, 11],[1, 2, 100, 4, 2, 9, 11],[1, 44, 3, 4, 56, 9, 11]],dtype=float)\n",
    "# data = np.array(pd.read_csv(\"data.csv\"))\n",
    "# data = np.array(xl.open(\"data.xlsl\"))\n",
    "\n",
    "#! 修改正向化\n",
    "data[0] = handle_middle_best(data[0], 5)\n",
    "data[1] = handle_min_best(data[1])\n",
    "data[2] = handle_area_best(data[2], 3, 7)\n",
    "\n",
    "print(data)\n",
    "\n",
    "# 标准化\n",
    "data = standardize(data)\n",
    "\n",
    "print(\"预处理后数据：\\n\",data)"
   ]
  },
  {
   "cell_type": "code",
   "execution_count": 9,
   "id": "c7263b2a",
   "metadata": {},
   "outputs": [
    {
     "name": "stdout",
     "output_type": "stream",
     "text": [
      "TOPSIS综合得分:\n",
      " [0.15564449 0.62924943 0.21510608]\n"
     ]
    }
   ],
   "source": [
    "n = data.shape[0]\n",
    "dmax = data.max(0)  # 得到data中每列的最大值\n",
    "dmin = data.min(0)  # 每列的最小值\n",
    "\n",
    "tep_a = data - np.tile(dmax, (n, 1))  # 将tep_max向下平铺n行,并与data中的每个对应元素做差\n",
    "tep_i = data - np.tile(dmin, (n, 1))  # 将tep_max向下平铺n行，并与data中的每个对应元素做差\n",
    "\n",
    "D_P = ((tep_a ** 2).sum(axis=1)) ** 0.5  # D+与最大值的距离向量\n",
    "D_N = ((tep_i ** 2).sum(axis=1)) ** 0.5\n",
    "S = D_N / (D_P + D_N)  # 未归一化的得分\n",
    "\n",
    "std_S = S / S.sum(axis=0)\n",
    "# sorted_S = np.sort(std_S, axis=0)\n",
    "\n",
    "print(\"TOPSIS综合得分:\\n\", std_S)  # 打印标准化后的得分"
   ]
  }
 ],
 "metadata": {
  "kernelspec": {
   "display_name": "mcm",
   "language": "python",
   "name": "python3"
  },
  "language_info": {
   "codemirror_mode": {
    "name": "ipython",
    "version": 3
   },
   "file_extension": ".py",
   "mimetype": "text/x-python",
   "name": "python",
   "nbconvert_exporter": "python",
   "pygments_lexer": "ipython3",
   "version": "3.13.5"
  }
 },
 "nbformat": 4,
 "nbformat_minor": 5
}
