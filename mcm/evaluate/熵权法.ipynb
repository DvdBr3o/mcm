{
 "cells": [
  {
   "cell_type": "markdown",
   "id": "3cc2578e",
   "metadata": {},
   "source": [
    "# 熵权法\n",
    "\n",
    "## 模型\n",
    "\n",
    "根据**信息熵**判定评价指标的对比价值\n",
    "\n",
    "### 计算熵权\n",
    "\n",
    "$p_{i,j}$ 表示 第 $i$ 个对象的第 $j$ 个 指标值\n",
    "\n",
    "则第 $j$ 个指标的\n",
    "\n",
    "- 信息熵\n",
    "\n",
    "    $$\n",
    "    e_{j} = -\\frac{1}{\\ln{n}}\\sum_{i=1}^{N} p_{i,j} \\ln{p_{i,j}}\n",
    "    $$\n",
    "\n",
    "- 信息效用值\n",
    "\n",
    "    $$\n",
    "    d_{j} = 1 - e_{j}\n",
    "    $$\n",
    "\n",
    "- 熵权\n",
    "\n",
    "    $$\n",
    "    W_{j} = \\frac{d_{j}}{\\sum_{j=1}^{M} d_{j}}\n",
    "    $$\n"
   ]
  },
  {
   "cell_type": "markdown",
   "id": "c94a7500",
   "metadata": {},
   "source": [
    "## 预实现"
   ]
  },
  {
   "cell_type": "code",
   "execution_count": 6,
   "id": "5c07a27f",
   "metadata": {},
   "outputs": [],
   "source": [
    "import numpy as np\n",
    "\n",
    "def standardize(data: np.ndarray):\n",
    "    return data / np.sqrt(np.sum(data**2, axis=0))\n",
    "\n",
    "def mylog(p: np.ndarray) -> np.ndarray:\n",
    "    n = len(p)\n",
    "    lnp = np.zeros(n)\n",
    "    for i in range(n):\n",
    "        if p[i] == 0:\n",
    "            lnp[i] = 0\n",
    "        else:\n",
    "            lnp[i] = np.log(p[i])\n",
    "    return lnp\n",
    "\n",
    "def weigts(data: np.ndarray) -> np.ndarray:\n",
    "    n, m = data.shape\n",
    "    d = np.zeros(m)\n",
    "    for j in range(m):\n",
    "        x = data[:, j] # 获取所有对象在第j个指标的取值\n",
    "        p = x / x.sum() # 获取概率分布 p\n",
    "        e = -np.sum(p * mylog(p)) / np.log(n) # 获取信息熵\n",
    "        d[j] = 1 - e # 获取信息效用值\n",
    "    return d / d.sum()"
   ]
  },
  {
   "cell_type": "markdown",
   "id": "367a213a",
   "metadata": {},
   "source": [
    "## 实现"
   ]
  },
  {
   "cell_type": "code",
   "execution_count": 7,
   "id": "908f94ce",
   "metadata": {},
   "outputs": [
    {
     "name": "stdout",
     "output_type": "stream",
     "text": [
      "标准化后数据： [[0.66896473 0.         0.         0.        ]\n",
      " [0.59463532 0.3939193  0.97618706 0.4472136 ]\n",
      " [0.44597649 0.91914503 0.21693046 0.89442719]]\n"
     ]
    }
   ],
   "source": [
    "import numpy as np\n",
    "\n",
    "#! 修改输入数据\n",
    "data = np.array([[9,0,0,0],[8,3,0.9,0.5],[6,7,0.2,1]])\n",
    "\n",
    "# 标准化\n",
    "data = standardize(data)\n",
    "print(\"标准化后数据：\", data)"
   ]
  },
  {
   "cell_type": "code",
   "execution_count": 8,
   "id": "9a3d55a8",
   "metadata": {},
   "outputs": [
    {
     "name": "stdout",
     "output_type": "stream",
     "text": [
      "熵权： [0.00856537 0.30716152 0.39326471 0.2910084 ]\n"
     ]
    }
   ],
   "source": [
    "W = weigts(data)\n",
    "print(\"熵权：\", W)"
   ]
  }
 ],
 "metadata": {
  "kernelspec": {
   "display_name": "mcm",
   "language": "python",
   "name": "python3"
  },
  "language_info": {
   "codemirror_mode": {
    "name": "ipython",
    "version": 3
   },
   "file_extension": ".py",
   "mimetype": "text/x-python",
   "name": "python",
   "nbconvert_exporter": "python",
   "pygments_lexer": "ipython3",
   "version": "3.12.9"
  }
 },
 "nbformat": 4,
 "nbformat_minor": 5
}
