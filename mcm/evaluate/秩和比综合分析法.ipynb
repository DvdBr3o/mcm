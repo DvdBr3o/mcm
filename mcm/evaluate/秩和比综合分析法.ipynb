{
 "cells": [
  {
   "cell_type": "markdown",
   "id": "e006eb7a",
   "metadata": {},
   "source": [
    "# 秩和比综合分析法"
   ]
  },
  {
   "cell_type": "markdown",
   "id": "e57b833c",
   "metadata": {},
   "source": [
    "## 模型"
   ]
  }
 ],
 "metadata": {
  "language_info": {
   "name": "python"
  }
 },
 "nbformat": 4,
 "nbformat_minor": 5
}
