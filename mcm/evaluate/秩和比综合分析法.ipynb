{
 "cells": [
  {
   "cell_type": "markdown",
   "id": "e006eb7a",
   "metadata": {},
   "source": [
    "# 秩和比综合分析法"
   ]
  },
  {
   "cell_type": "markdown",
   "id": "e57b833c",
   "metadata": {},
   "source": [
    "## 模型\n",
    "\n",
    "用秩和比 (RSR) 评价对象的评价方法\n",
    "\n",
    "适用于多目标多维度分析\n",
    "\n",
    "定义秩次矩阵 $R_{i,j}$ 为第 $i$ 个对象在第 $j$ 个指标的秩次 (排名)\n",
    "\n",
    "定义秩和比\n",
    "\n",
    "$$\n",
    "RSR_{i} = \\frac{1}{m \\times n} \\sum_{j}R_{i,j}\n",
    "$$"
   ]
  }
 ],
 "metadata": {
  "language_info": {
   "name": "python"
  }
 },
 "nbformat": 4,
 "nbformat_minor": 5
}
