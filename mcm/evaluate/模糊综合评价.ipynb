{
 "cells": [
  {
   "cell_type": "markdown",
   "id": "451a6a04",
   "metadata": {},
   "source": [
    "# 模糊综合评价\n",
    "\n",
    "## 模型\n",
    "\n",
    "处理 多秃是秃头，美丑等**模糊性概念**\n",
    "\n",
    "### 模糊集合论\n",
    "\n",
    "- 模糊集合\n",
    "\n",
    "    元素是否属于模糊集合，不是“是/不是”，而是看**隶属度**\n",
    "\n",
    "- 隶属函数\n",
    "\n",
    "    隶属函数定义元素相对于集合的隶属度\n",
    "\n",
    "### 模糊综合评价\n",
    "\n",
    "- 引入综合评价集合\n",
    "\n",
    "    - 因素集 $U$: 评价指标\n",
    "\n",
    "    - 评语集 $V$: 评价结果\n",
    "\n",
    "    - 权重集 $A$: 指标重要程度\n",
    "\n",
    "#### 一级模糊综合评价\n",
    "\n",
    "1. 确定三集\n",
    "\n",
    "2. 由 $U$ 和 $V$ 得到评价矩阵 $R$\n",
    "\n",
    "3. 再根据权重集 $A$ 得到最终评价\n",
    "\n",
    "    $$\n",
    "    B = A \\cdot R\n",
    "    $$\n",
    "\n",
    "#### 多层次模糊综合评价\n",
    "\n",
    "1. 把因素集 $U$ 划分为多个不同的因素集\n",
    "\n",
    "2. 每个因素集单独进行**一级模糊综合评价**\n",
    "\n",
    "3. 把所有一级评价作为新的评价矩阵\n",
    "\n",
    "    $$\n",
    "    R' = \\begin{bmatrix}R_{1} \\\\ R_{2} \\\\ \\vdots \\\\ R_{n}\\end{bmatrix}\n",
    "    $$\n",
    "\n",
    "4. 最后用因素集间的权重集再整合得到综合评价\n",
    "\n",
    "    $$\n",
    "    B' = A' \\cdot R'\n",
    "    $$\n"
   ]
  },
  {
   "cell_type": "markdown",
   "id": "2ed9c2a0",
   "metadata": {},
   "source": [
    "## 实现"
   ]
  },
  {
   "cell_type": "markdown",
   "id": "c5f72b62",
   "metadata": {},
   "source": [
    "### 一级模糊综合评价"
   ]
  },
  {
   "cell_type": "code",
   "execution_count": null,
   "id": "1861d292",
   "metadata": {},
   "outputs": [],
   "source": [
    "import numpy as np\n",
    "\n",
    "#! 修改输入数据\n",
    "## 评价矩阵\n",
    "R = np.array([\n",
    "    [88, 99, 100],\n",
    "    [100, 60, 67],\n",
    "    [77, 77, 66],\n",
    "]).transpose() # `.transpose()` 后：行为同一对象，列为同一指标\n",
    "## 权重矩阵\n",
    "A = np.array([0.2, 0.5, 0.3])"
   ]
  },
  {
   "cell_type": "code",
   "execution_count": 5,
   "id": "0dbad217",
   "metadata": {},
   "outputs": [
    {
     "name": "stdout",
     "output_type": "stream",
     "text": [
      "模糊综合评价得分:\n",
      " [97.1 70.1 73.7]\n"
     ]
    }
   ],
   "source": [
    "## 获得模糊综合评价\n",
    "B = np.dot(A, R)\n",
    "print(\"模糊综合评价得分:\\n\", B)"
   ]
  },
  {
   "cell_type": "markdown",
   "id": "06dc4cb2",
   "metadata": {},
   "source": [
    "### 多层次模糊综合评价"
   ]
  },
  {
   "cell_type": "code",
   "execution_count": 6,
   "id": "c6ef4b01",
   "metadata": {},
   "outputs": [
    {
     "name": "stdout",
     "output_type": "stream",
     "text": [
      "多层次模糊综合评价得分:\n",
      " [20.69   14.58   17.2595]\n"
     ]
    }
   ],
   "source": [
    "import numpy as np\n",
    "\n",
    "\"\"\"说明\n",
    "1. 不`transpose()`时，行是同一指标，列是同一对象\n",
    "2. 一级评价可以增加更多\n",
    "3. 层次也可以不局限于两级\n",
    "\"\"\"\n",
    "\n",
    "#! 修改输入数据\n",
    "## 一级评价\n",
    "### 一级评价矩阵 1\n",
    "R1 = np.array([\n",
    "    [88, 99, 100],\n",
    "    [100, 60, 67],\n",
    "    [77, 77, 66],\n",
    "]).transpose()\n",
    "### 一级权重矩阵 1\n",
    "A1 = np.array([0.2, 0.5, 0.3])\n",
    "B1 = np.dot(A1, R1)\n",
    "\n",
    "### 一级评价矩阵 2\n",
    "R2 = np.array([\n",
    "    [120, 90, 40, 20, 1],\n",
    "    [110, 40, 20, 12, 2],\n",
    "    [160, 55, 10, 16, 3],\n",
    "]).transpose()\n",
    "### 一级权重矩阵 2\n",
    "A2 = np.array([0.2, 0.2, 0.2, 0.2, 0.2])\n",
    "B2 = np.dot(A2, R2)\n",
    "\n",
    "### 一级评价矩阵 3\n",
    "R3 = np.array([\n",
    "    [.2, .2, .2, .2],\n",
    "    [.1, .2, .3, .4],\n",
    "    [.1, .2, .13, .24],\n",
    "]).transpose()\n",
    "### 一级权重矩阵 3\n",
    "A3 = np.array([0.1, 0.2, 0.3, 0.4])\n",
    "B3 = np.dot(A3, R3)\n",
    "\n",
    "## 二级评价\n",
    "### 二级评价矩阵\n",
    "R = np.array([\n",
    "    B1,\n",
    "    B2,\n",
    "    B3,\n",
    "])\n",
    "### 二级权重矩阵\n",
    "A = np.array([0.1, 0.2, 0.7])\n",
    "B = np.dot(A, R)\n",
    "\n",
    "print(\"多层次模糊综合评价得分:\\n\", B)"
   ]
  }
 ],
 "metadata": {
  "kernelspec": {
   "display_name": "mcm",
   "language": "python",
   "name": "python3"
  },
  "language_info": {
   "codemirror_mode": {
    "name": "ipython",
    "version": 3
   },
   "file_extension": ".py",
   "mimetype": "text/x-python",
   "name": "python",
   "nbconvert_exporter": "python",
   "pygments_lexer": "ipython3",
   "version": "3.13.5"
  }
 },
 "nbformat": 4,
 "nbformat_minor": 5
}
