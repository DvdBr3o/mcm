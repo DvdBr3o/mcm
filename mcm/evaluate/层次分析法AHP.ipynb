{
 "cells": [
  {
   "cell_type": "markdown",
   "id": "e5e4e970",
   "metadata": {},
   "source": [
    "# 层次分析法 AHP\n",
    "\n",
    "## 模型\n",
    "\n",
    "根据指标两两之间的权重比值，推算各指标的权重\n",
    "\n",
    "e.g.\n",
    "\n",
    "![image.png](https://s2.loli.net/2025/08/10/iVM9bx4On5A8jvH.png)"
   ]
  },
  {
   "cell_type": "markdown",
   "id": "a9e4e5e3",
   "metadata": {},
   "source": [
    "## 实现"
   ]
  },
  {
   "cell_type": "code",
   "execution_count": 13,
   "id": "5cd4bf18",
   "metadata": {},
   "outputs": [],
   "source": [
    "import numpy as np\n",
    "\n",
    "#! 修改评价矩阵\n",
    "criteria = np.array(\n",
    "    [[1, 1 / 3, 1 / 8],\n",
    "     [3, 1, 1 / 3],\n",
    "     [8, 3, 1]]\n",
    ")"
   ]
  },
  {
   "cell_type": "code",
   "execution_count": 14,
   "id": "cfd15f82",
   "metadata": {},
   "outputs": [],
   "source": [
    "n = criteria.shape[0]\n",
    "# 初始化RI值，用于一致性检验\n",
    "RI_list = [0, 0, 0.52, 0.89, 1.12, 1.26, 1.36, 1.41, 1.46, 1.49, 1.52, 1.54, 1.56, 1.58,\n",
    "                1.59]\n",
    "# 矩阵的特征值和特征向量\n",
    "eig_val, eig_vector = np.linalg.eig(criteria)\n",
    "# 矩阵的最大特征值\n",
    "max_eig_val = np.max(eig_val)\n",
    "# 矩阵最大特征值对应的特征向量\n",
    "max_eig_vector = eig_vector[:, np.argmax(eig_val)].real # type: ignore\n",
    "# 矩阵的一致性指标CI\n",
    "CI_val = (max_eig_val - n) / (n - 1)\n",
    "# 矩阵的一致性比例CR\n",
    "CR_val = CI_val / (RI_list[n - 1])"
   ]
  },
  {
   "cell_type": "code",
   "execution_count": 15,
   "id": "302f823c",
   "metadata": {},
   "outputs": [
    {
     "name": "stdout",
     "output_type": "stream",
     "text": [
      "判断矩阵的CI值为：(0.0007708125321126413+0j)\n",
      "判断矩阵的CR值为：(0.0014823317925243102+0j)\n",
      "判断矩阵的CR值为(0.0014823317925243102+0j),通过一致性检验\n"
     ]
    }
   ],
   "source": [
    " # 打印矩阵的一致性指标CI和一致性比例CR\n",
    "print(\"判断矩阵的CI值为：\" + str(CI_val))\n",
    "print(\"判断矩阵的CR值为：\" + str(CR_val))\n",
    "# 进行一致性检验判断\n",
    "if n == 2:  # 当只有两个子因素的情况\n",
    "    print(\"仅包含两个子因素，不存在一致性问题\")\n",
    "else:\n",
    "    if CR_val < 0.1:  # CR值小于0.1，可以通过一致性检验\n",
    "        print(\"判断矩阵的CR值为\" + str(CR_val) + \",通过一致性检验\")\n",
    "    else:  # CR值大于0.1, 一致性检验不通过\n",
    "        print(\"判断矩阵的CR值为\" + str(CR_val) + \"未通过一致性检验\")"
   ]
  },
  {
   "cell_type": "code",
   "execution_count": 16,
   "id": "88c0f0c5",
   "metadata": {},
   "outputs": [
    {
     "name": "stdout",
     "output_type": "stream",
     "text": [
      "算术平均法计算得到的权重向量为：\n",
      " [0.08199023 0.23644689 0.68156288]\n"
     ]
    }
   ],
   "source": [
    "# 求矩阵的每列的和\n",
    "col_sum = np.sum(criteria, axis=0)\n",
    "# 将判断矩阵按照列归一化\n",
    "array_normed = criteria / col_sum\n",
    "# 计算权重向量\n",
    "array_weight = np.sum(array_normed, axis=1) / n\n",
    "# 打印权重向量\n",
    "print(\"算术平均法计算得到的权重向量为：\\n\", array_weight)"
   ]
  },
  {
   "cell_type": "code",
   "execution_count": 17,
   "id": "bd86175c",
   "metadata": {},
   "outputs": [
    {
     "name": "stdout",
     "output_type": "stream",
     "text": [
      "几何平均法计算得到的权重向量为：\n",
      " [0.68172455 0.2363407  0.08193475]\n"
     ]
    }
   ],
   "source": [
    "col_product = np.prod(criteria, axis=0)\n",
    "# 将得到的积向量的每个分量进行开n次方\n",
    "array_power = np.power(col_product, 1 / criteria.shape[0])\n",
    "# 将列向量归一化\n",
    "array_weight = array_power / np.sum(array_power)\n",
    "# 打印权重向量\n",
    "print(\"几何平均法计算得到的权重向量为：\\n\", array_weight)"
   ]
  },
  {
   "cell_type": "code",
   "execution_count": 18,
   "id": "0b4b7e68",
   "metadata": {},
   "outputs": [
    {
     "name": "stdout",
     "output_type": "stream",
     "text": [
      "特征值法计算得到的权重向量为：\n",
      " [0.08193475 0.2363407  0.68172455]\n"
     ]
    }
   ],
   "source": [
    "# 将矩阵最大特征值对应的特征向量进行归一化处理就得到了权重\n",
    "array_weight = max_eig_vector / np.sum(max_eig_vector)\n",
    "# 打印权重向量\n",
    "print(\"特征值法计算得到的权重向量为：\\n\", array_weight)"
   ]
  }
 ],
 "metadata": {
  "kernelspec": {
   "display_name": "mcm",
   "language": "python",
   "name": "python3"
  },
  "language_info": {
   "codemirror_mode": {
    "name": "ipython",
    "version": 3
   },
   "file_extension": ".py",
   "mimetype": "text/x-python",
   "name": "python",
   "nbconvert_exporter": "python",
   "pygments_lexer": "ipython3",
   "version": "3.12.9"
  }
 },
 "nbformat": 4,
 "nbformat_minor": 5
}
