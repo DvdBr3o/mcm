{
 "cells": [
  {
   "cell_type": "markdown",
   "id": "28b8ca09",
   "metadata": {},
   "source": [
    "# 主成分分析 PCA"
   ]
  },
  {
   "cell_type": "markdown",
   "id": "7ab78497",
   "metadata": {},
   "source": [
    "## 模型\n",
    "\n",
    "将多个指标合并(**降维**)成更少的新指标，使得\n",
    "\n",
    "1. 新指标能更**简练**地概括合并的多个指标\n",
    "\n",
    "2. 新指标之间的**重叠性更低**, 最理想情况下正交"
   ]
  },
  {
   "cell_type": "markdown",
   "id": "0552515f",
   "metadata": {},
   "source": [
    "## 实现"
   ]
  },
  {
   "cell_type": "code",
   "execution_count": 95,
   "id": "0cd01133",
   "metadata": {},
   "outputs": [],
   "source": [
    "import numpy as np\n",
    "import scipy.linalg as linalg\n",
    "from sklearn.decomposition import PCA\n",
    "\n",
    "#! 修改输入数据\n",
    "data = np.array([\n",
    "    [1, 2, 3, 1, 2, ],\n",
    "    [4, 5, 6, 2, 0, ],\n",
    "    [7, 8, 9, 1, 2, ],\n",
    "    [7, 8, 10, 1, 2, ],\n",
    "])"
   ]
  },
  {
   "cell_type": "code",
   "execution_count": 96,
   "id": "21ab310d",
   "metadata": {},
   "outputs": [
    {
     "name": "stdout",
     "output_type": "stream",
     "text": [
      "标准化后数据: \n",
      " [[-1.30558242 -1.30558242 -1.26491106 -0.5         0.5       ]\n",
      " [-0.26111648 -0.26111648 -0.31622777  1.5        -1.5       ]\n",
      " [ 0.78334945  0.78334945  0.63245553 -0.5         0.5       ]\n",
      " [ 0.78334945  0.78334945  0.9486833  -0.5         0.5       ]]\n"
     ]
    }
   ],
   "source": [
    "# 标准化数据\n",
    "X = (data - np.mean(data, axis=0)) / np.std(data, ddof=1, axis=0)\n",
    "\n",
    "print(\"标准化后数据: \\n\", X)"
   ]
  },
  {
   "cell_type": "code",
   "execution_count": 97,
   "id": "63a05913",
   "metadata": {},
   "outputs": [
    {
     "name": "stdout",
     "output_type": "stream",
     "text": [
      "数据的协方差矩阵为: \n",
      " [[ 1.          1.          0.99086739 -0.17407766  0.17407766]\n",
      " [ 1.          1.          0.99086739 -0.17407766  0.17407766]\n",
      " [ 0.99086739  0.99086739  1.         -0.21081851  0.21081851]\n",
      " [-0.17407766 -0.17407766 -0.21081851  1.         -1.        ]\n",
      " [ 0.17407766  0.17407766  0.21081851 -1.          1.        ]]\n"
     ]
    }
   ],
   "source": [
    "# 计算协方差矩阵\n",
    "R = np.cov(X.T)\n",
    "\n",
    "print(\"数据的协方差矩阵为: \\n\", R)"
   ]
  },
  {
   "cell_type": "code",
   "execution_count": 98,
   "id": "daa8cbde",
   "metadata": {},
   "outputs": [
    {
     "name": "stdout",
     "output_type": "stream",
     "text": [
      "协方差矩阵特征值:\n",
      " [ 3.16644839e+00  1.82234844e+00  1.12031705e-02 -2.60862082e-17\n",
      " -2.09414480e-16]\n",
      "协方差矩阵特征向量:\n",
      " [[ 5.36147002e-01 -2.19689029e-01 -4.05318544e-01  0.00000000e+00\n",
      "   7.07106781e-01]\n",
      " [ 5.36147002e-01 -2.19689029e-01 -4.05318544e-01 -4.84741921e-15\n",
      "  -7.07106781e-01]\n",
      " [ 5.40594477e-01 -1.91905612e-01  8.19103075e-01  4.87406071e-15\n",
      "   1.33536447e-14]\n",
      " [-2.57730863e-01 -6.58272625e-01  1.58730574e-02  7.07106781e-01\n",
      "  -2.23782600e-15]\n",
      " [ 2.57730863e-01  6.58272625e-01 -1.58730574e-02  7.07106781e-01\n",
      "  -2.63327752e-15]]\n"
     ]
    }
   ],
   "source": [
    "# 获得特征值 & 特征向量\n",
    "eigen_val, eigen_vec = linalg.eigh(R) # 默认升序给出\n",
    "# 降序排序\n",
    "eigen_val = eigen_val[::-1]\n",
    "eigen_vec = eigen_vec[:, ::-1]\n",
    "\n",
    "print(\"协方差矩阵特征值:\\n\", eigen_val)\n",
    "print(\"协方差矩阵特征向量:\\n\", eigen_vec)"
   ]
  },
  {
   "cell_type": "code",
   "execution_count": 99,
   "id": "f1d12fe8",
   "metadata": {},
   "outputs": [
    {
     "name": "stdout",
     "output_type": "stream",
     "text": [
      "贡献率:\n",
      " [ 6.33289678e-01  3.64469688e-01  2.24063410e-03 -5.21724164e-18\n",
      " -4.18828960e-17]\n",
      "累积贡献率:\n",
      " [0.63328968 0.99775937 1.         1.         1.        ]\n"
     ]
    }
   ],
   "source": [
    "# 计算贡献率 & 累积贡献率\n",
    "contribution_rate = eigen_val / sum(eigen_val)\n",
    "cum_contribution_rate = np.cumsum(contribution_rate)\n",
    "\n",
    "print(\"贡献率:\\n\", contribution_rate)\n",
    "print(\"累积贡献率:\\n\", cum_contribution_rate)"
   ]
  },
  {
   "cell_type": "code",
   "execution_count": null,
   "id": "5391a2b0",
   "metadata": {},
   "outputs": [
    {
     "name": "stdout",
     "output_type": "stream",
     "text": [
      "PCA降维后数据:\n",
      " [[-1.82604127 -1.47466043]\n",
      " [-1.22413721  1.79940314]\n",
      " [ 1.43961375 -0.1927143 ]\n",
      " [ 1.61056473 -0.13202841]]\n"
     ]
    }
   ],
   "source": [
    "# PCA\n",
    "\n",
    "#! 修改主成分数, 要根据累积贡献率\n",
    "#  整数时为个数\n",
    "#  小数时作为累积贡献率阈值\n",
    "MAIN_COMPONENT = 0.95\n",
    "\n",
    "# 应用 PCA\n",
    "PCAX = PCA(n_components=MAIN_COMPONENT).fit_transform(X)\n",
    "\n",
    "print(\"PCA降维后数据:\\n\", PCAX)"
   ]
  }
 ],
 "metadata": {
  "kernelspec": {
   "display_name": "mcm",
   "language": "python",
   "name": "python3"
  },
  "language_info": {
   "codemirror_mode": {
    "name": "ipython",
    "version": 3
   },
   "file_extension": ".py",
   "mimetype": "text/x-python",
   "name": "python",
   "nbconvert_exporter": "python",
   "pygments_lexer": "ipython3",
   "version": "3.13.2"
  }
 },
 "nbformat": 4,
 "nbformat_minor": 5
}
