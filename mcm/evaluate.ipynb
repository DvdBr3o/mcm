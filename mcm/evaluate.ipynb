{
 "cells": [
  {
   "cell_type": "markdown",
   "id": "8159d2dd",
   "metadata": {},
   "source": [
    "# 评价类"
   ]
  },
  {
   "cell_type": "markdown",
   "id": "ea8fc261",
   "metadata": {},
   "source": [
    "- 权重评价\n",
    "    - [层次分析法 AHP](./evaluate/层次分析法AHP.ipynb)\n",
    "    - [熵权法](./evaluate/熵权法.ipynb)\n",
    "- 相关评价\n",
    "    - [灰色关联分析](./evaluate/灰色关联分析.ipynb)\n",
    "- 综合评价\n",
    "    - [TOPSIS 综合评价](./evaluate/topsis.ipynb)\n",
    "    - [模糊综合评价](./evaluate/模糊综合评价.ipynb)\n",
    "- 工具\n",
    "    - [主成分分析 PCA](./evaluate/主成分分析PCA.ipynb)\n"
   ]
  }
 ],
 "metadata": {
  "language_info": {
   "name": "python"
  }
 },
 "nbformat": 4,
 "nbformat_minor": 5
}
