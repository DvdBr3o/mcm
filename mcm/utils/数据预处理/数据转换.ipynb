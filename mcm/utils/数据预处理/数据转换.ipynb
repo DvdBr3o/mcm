{
 "cells": [
  {
   "cell_type": "markdown",
   "id": "71bd7468",
   "metadata": {},
   "source": [
    "# 数据转换"
   ]
  },
  {
   "cell_type": "markdown",
   "metadata": {},
   "source": [
    "## 归一化\n",
    "\n",
    "把数据缩到 $[0, 1]$ 或 $[-1, 1]$ 之间\n",
    "\n",
    "- 数据上下界已知"
   ]
  },
  {
   "cell_type": "code",
   "execution_count": 22,
   "id": "6ba60a7d",
   "metadata": {},
   "outputs": [
    {
     "data": {
      "text/plain": [
       "array([[ 1. , -3.2],\n",
       "       [88. ,  6.9],\n",
       "       [79. , 29.1],\n",
       "       [22. , 13.9]])"
      ]
     },
     "execution_count": 22,
     "metadata": {},
     "output_type": "execute_result"
    }
   ],
   "source": [
    "import numpy as np\n",
    "\n",
    "#! 修改输入数据\n",
    "# 行为对象，列为指标\n",
    "data = np.array([\n",
    "    [1,  -3.2],\n",
    "    [88,  6.9],\n",
    "    [79,  29.1],\n",
    "    [22,  13.9],\n",
    "])\n",
    "\n",
    "data"
   ]
  },
  {
   "cell_type": "code",
   "execution_count": 23,
   "id": "e1ebd927",
   "metadata": {},
   "outputs": [
    {
     "data": {
      "text/plain": [
       "array([[0.        , 0.        ],\n",
       "       [1.        , 0.3126935 ],\n",
       "       [0.89655172, 1.        ],\n",
       "       [0.24137931, 0.52941176]])"
      ]
     },
     "execution_count": 23,
     "metadata": {},
     "output_type": "execute_result"
    }
   ],
   "source": [
    "from sklearn.preprocessing import minmax_scale, MinMaxScaler\n",
    "\n",
    "data = minmax_scale(data, \n",
    "    # 归一区间\n",
    "    feature_range=(0,1),\n",
    ")\n",
    "\n",
    "data"
   ]
  },
  {
   "cell_type": "markdown",
   "id": "ea03f46e",
   "metadata": {},
   "source": [
    "## 标准化\n",
    "\n",
    "将数据转换成均值为0，标准差为1的标准正态分布\n",
    "\n",
    "- 数据必须本身遵循正态分布\n",
    "\n",
    "- 对异常值不敏感"
   ]
  },
  {
   "cell_type": "code",
   "execution_count": 24,
   "id": "6624a1cd",
   "metadata": {},
   "outputs": [
    {
     "data": {
      "text/plain": [
       "array([[ 1. , -3.2],\n",
       "       [88. ,  6.9],\n",
       "       [79. , 29.1],\n",
       "       [22. , 13.9]])"
      ]
     },
     "execution_count": 24,
     "metadata": {},
     "output_type": "execute_result"
    }
   ],
   "source": [
    "import numpy as np\n",
    "\n",
    "#! 修改输入数据\n",
    "# 行为对象，列为指标\n",
    "data = np.array([\n",
    "    [1,  -3.2],\n",
    "    [88,  6.9],\n",
    "    [79,  29.1],\n",
    "    [22,  13.9],\n",
    "])\n",
    "\n",
    "data"
   ]
  },
  {
   "cell_type": "code",
   "execution_count": 25,
   "id": "4babd78b",
   "metadata": {},
   "outputs": [
    {
     "data": {
      "text/plain": [
       "array([[-1.26032922, -1.26550209],\n",
       "       [ 1.0977061 , -0.4062368 ],\n",
       "       [ 0.85377141,  1.4824453 ],\n",
       "       [-0.69114828,  0.18929359]])"
      ]
     },
     "execution_count": 25,
     "metadata": {},
     "output_type": "execute_result"
    }
   ],
   "source": [
    "from sklearn.preprocessing import StandardScaler\n",
    "\n",
    "data = StandardScaler().fit_transform(data)\n",
    "\n",
    "data"
   ]
  }
 ],
 "metadata": {
  "kernelspec": {
   "display_name": "mcm",
   "language": "python",
   "name": "python3"
  },
  "language_info": {
   "codemirror_mode": {
    "name": "ipython",
    "version": 3
   },
   "file_extension": ".py",
   "mimetype": "text/x-python",
   "name": "python",
   "nbconvert_exporter": "python",
   "pygments_lexer": "ipython3",
   "version": "3.13.2"
  }
 },
 "nbformat": 4,
 "nbformat_minor": 5
}
