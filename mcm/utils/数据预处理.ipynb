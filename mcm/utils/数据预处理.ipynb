{
 "cells": [
  {
   "cell_type": "markdown",
   "id": "07ae0d75",
   "metadata": {},
   "source": [
    "# 数据预处理"
   ]
  },
  {
   "cell_type": "markdown",
   "id": "43488802",
   "metadata": {},
   "source": [
    "## 标准化"
   ]
  },
  {
   "cell_type": "markdown",
   "id": "af4e5847",
   "metadata": {},
   "source": [
    "## 归一化"
   ]
  }
 ],
 "metadata": {
  "language_info": {
   "name": "python"
  }
 },
 "nbformat": 4,
 "nbformat_minor": 5
}
