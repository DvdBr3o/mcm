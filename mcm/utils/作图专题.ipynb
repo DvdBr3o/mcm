{
 "cells": [
  {
   "cell_type": "markdown",
   "id": "a257c64e",
   "metadata": {},
   "source": [
    "# 作图专题"
   ]
  },
  {
   "cell_type": "markdown",
   "metadata": {},
   "source": [
    "## 饼状图"
   ]
  },
  {
   "cell_type": "markdown",
   "metadata": {},
   "source": [
    "## 条形图"
   ]
  }
 ],
 "metadata": {
  "language_info": {
   "name": "python"
  }
 },
 "nbformat": 4,
 "nbformat_minor": 5
}
