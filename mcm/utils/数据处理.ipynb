{
 "cells": [
  {
   "cell_type": "markdown",
   "id": "aeab7934",
   "metadata": {},
   "source": [
    "# 数据处理"
   ]
  },
  {
   "cell_type": "markdown",
   "id": "6864482d",
   "metadata": {},
   "source": [
    "数模竞赛常见 raw data format 是 `CSV` / Excel 文件\n",
    "\n",
    "一般处理步骤为:\n",
    "\n",
    "`CSV` / Excel 文件 $\\rightarrow$ `pandas.DataFrame` $\\rightarrow$ `np.array`"
   ]
  },
  {
   "cell_type": "markdown",
   "id": "58a708a8",
   "metadata": {},
   "source": [
    "## CSV"
   ]
  },
  {
   "cell_type": "code",
   "execution_count": 1,
   "id": "710b1875",
   "metadata": {},
   "outputs": [
    {
     "name": "stdout",
     "output_type": "stream",
     "text": [
      "[['DvdBr3o' 19 190 'm']\n",
      " ['Nick' 21 133 'm']\n",
      " ['Alex' 13 167 'f']\n",
      " ['Bob' 33 171 'm']\n",
      " ['Foo' 45 169 'm']\n",
      " ['Bar' 6 98 'm']]\n"
     ]
    }
   ],
   "source": [
    "import numpy as np\n",
    "import pandas as pd\n",
    "\n",
    "df = pd.read_csv(\"数据处理example.csv\")\n",
    "data: np.ndarray = df.values\n",
    "\n",
    "print(data)"
   ]
  },
  {
   "cell_type": "markdown",
   "id": "cfc3065e",
   "metadata": {},
   "source": [
    "## Excel"
   ]
  },
  {
   "cell_type": "code",
   "execution_count": 2,
   "id": "6221b681",
   "metadata": {},
   "outputs": [
    {
     "name": "stdout",
     "output_type": "stream",
     "text": [
      "[['DvdBr3o' 19 190 'm']\n",
      " ['Nick' 21 133 'm']\n",
      " ['Alex' 13 167 'f']\n",
      " ['Bob' 33 171 'm']\n",
      " ['Foo' 45 169 'm']\n",
      " ['Bar' 6 98 'm']]\n"
     ]
    }
   ],
   "source": [
    "import numpy as np\n",
    "import pandas as pd\n",
    "\n",
    "df = pd.read_excel(\"数据处理example.xlsx\")\n",
    "data: np.ndarray = df.values\n",
    "\n",
    "print(data)"
   ]
  }
 ],
 "metadata": {
  "kernelspec": {
   "display_name": "mcm",
   "language": "python",
   "name": "python3"
  },
  "language_info": {
   "codemirror_mode": {
    "name": "ipython",
    "version": 3
   },
   "file_extension": ".py",
   "mimetype": "text/x-python",
   "name": "python",
   "nbconvert_exporter": "python",
   "pygments_lexer": "ipython3",
   "version": "3.13.2"
  }
 },
 "nbformat": 4,
 "nbformat_minor": 5
}
