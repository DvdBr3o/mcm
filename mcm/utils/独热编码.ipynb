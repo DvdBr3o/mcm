{
 "cells": [
  {
   "cell_type": "markdown",
   "id": "04b58af5",
   "metadata": {},
   "source": [
    "# 独热编码"
   ]
  },
  {
   "cell_type": "markdown",
   "id": "0fe6be4e",
   "metadata": {},
   "source": [
    "one-hot encoding"
   ]
  },
  {
   "cell_type": "code",
   "execution_count": 1,
   "id": "108936b6",
   "metadata": {},
   "outputs": [
    {
     "name": "stdout",
     "output_type": "stream",
     "text": [
      "   Age  Height  Name_Alex  Name_Bar  Name_Bob  Name_DvdBr3o  Name_Foo  \\\n",
      "0   19     190      False     False     False          True     False   \n",
      "1   21     133      False     False     False         False     False   \n",
      "2   13     167       True     False     False         False     False   \n",
      "3   33     171      False     False      True         False     False   \n",
      "4   45     169      False     False     False         False      True   \n",
      "5    6      98      False      True     False         False     False   \n",
      "\n",
      "   Name_Nick  Gender_f  Gender_m  \n",
      "0      False     False      True  \n",
      "1       True     False      True  \n",
      "2      False      True     False  \n",
      "3      False     False      True  \n",
      "4      False     False      True  \n",
      "5      False     False      True  \n"
     ]
    }
   ],
   "source": [
    "import pandas as pd\n",
    "\n",
    "df = pd.read_csv('./数据处理example.csv')\n",
    "\n",
    "df_onehot = pd.get_dummies(df)\n",
    "\n",
    "print(df_onehot)"
   ]
  }
 ],
 "metadata": {
  "kernelspec": {
   "display_name": "mcm",
   "language": "python",
   "name": "python3"
  },
  "language_info": {
   "codemirror_mode": {
    "name": "ipython",
    "version": 3
   },
   "file_extension": ".py",
   "mimetype": "text/x-python",
   "name": "python",
   "nbconvert_exporter": "python",
   "pygments_lexer": "ipython3",
   "version": "3.13.2"
  }
 },
 "nbformat": 4,
 "nbformat_minor": 5
}
