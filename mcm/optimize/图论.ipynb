{
 "cells": [
  {
   "cell_type": "markdown",
   "id": "cede686f",
   "metadata": {},
   "source": [
    "# 图论"
   ]
  },
  {
   "cell_type": "markdown",
   "id": "a3ea148c",
   "metadata": {},
   "source": [
    "## 模型\n",
    "\n",
    "略"
   ]
  },
  {
   "cell_type": "markdown",
   "id": "949999aa",
   "metadata": {},
   "source": [
    "## 实现\n",
    "\n",
    "选择了库 `igraph`"
   ]
  },
  {
   "cell_type": "markdown",
   "id": "549afffc",
   "metadata": {},
   "source": [
    "### 建图"
   ]
  },
  {
   "cell_type": "code",
   "execution_count": 182,
   "id": "8120a224",
   "metadata": {},
   "outputs": [
    {
     "name": "stdout",
     "output_type": "stream",
     "text": [
      "IGRAPH DN-- 4 4 --\n",
      "+ attr: name (v), vertice_attr1 (v), vertice_attr2 (v), edge_attr (e), w1 (e)\n",
      "+ edges (vertex names):\n",
      "haha->dodo, haha->veve, dodo->veve, veve->lolo\n"
     ]
    }
   ],
   "source": [
    "import igraph as ig\n",
    "\n",
    "#! 修改建图\n",
    "g = ig.Graph(\n",
    "    # 点个数\n",
    "    n = 4,\n",
    "    # 有向图/无向图\n",
    "    directed = True,\n",
    "    # 建边\n",
    "    # [from, to]\n",
    "    edges = [\n",
    "        [0, 1],\n",
    "        [0, 3],\n",
    "        [1, 3],\n",
    "        [3, 2],\n",
    "    ],\n",
    "    # 点属性\n",
    "    vertex_attrs = {\n",
    "        \"name\": [\"haha\", \"dodo\", \"lolo\", \"veve\"],\n",
    "        \"vertice_attr1\": [1, 2, 3, 5],\n",
    "        \"vertice_attr2\": [\"abc\", \"def\", \"ghi\", \"jkl\"],\n",
    "    },\n",
    "    # 边属性\n",
    "    edge_attrs = {\n",
    "        \"edge_attr\": [True, False, True, False],\n",
    "        \"w1\": [2, 4, 5, 1],\n",
    "    },\n",
    ")\n",
    "\n",
    "print(g)"
   ]
  },
  {
   "cell_type": "markdown",
   "id": "fda8567b",
   "metadata": {},
   "source": [
    "### 绘图"
   ]
  },
  {
   "cell_type": "code",
   "execution_count": 183,
   "id": "0e777f14",
   "metadata": {},
   "outputs": [
    {
     "data": {
      "text/plain": [
       "<igraph.drawing.matplotlib.graph.GraphArtist at 0x15badbf91d0>"
      ]
     },
     "execution_count": 183,
     "metadata": {},
     "output_type": "execute_result"
    },
    {
     "data": {
      "image/png": "[encoded data removed]",
      "text/plain": [
       "<Figure size 640x480 with 1 Axes>"
      ]
     },
     "metadata": {},
     "output_type": "display_data"
    }
   ],
   "source": [
    "import matplotlib.pyplot as plt\n",
    "\n",
    "#! 修改图样式\n",
    "# LNK: https://python.igraph.org/en/stable/tutorial.html#vertex-attributes-controlling-graph-plots\n",
    "# LNK: https://python.igraph.org/en/stable/tutorial.html#edge-attributes-controlling-graph-plots\n",
    "visual_style = {\n",
    "    \"vertex_label\": g.vs[\"name\"],\n",
    "    \"vertex_label_dist\": 1.1,\n",
    "    \"edge_align_label\": False,\n",
    "    \"edge_curved\": False,\n",
    "    \"edge_label\": g.es[\"w1\"]\n",
    "}\n",
    "\n",
    "fig, ax = plt.subplots()\n",
    "ig.plot(g, \n",
    "    layout = g.layout_auto(),\n",
    "    target = ax,\n",
    "    **visual_style,\n",
    ")"
   ]
  },
  {
   "cell_type": "markdown",
   "id": "154cd641",
   "metadata": {},
   "source": [
    "### 最短路"
   ]
  },
  {
   "cell_type": "code",
   "execution_count": 184,
   "id": "6ccec358",
   "metadata": {},
   "outputs": [
    {
     "data": {
      "text/plain": [
       "[[5.0, 4.0], [6.0, 5.0]]"
      ]
     },
     "execution_count": 184,
     "metadata": {},
     "output_type": "execute_result"
    }
   ],
   "source": [
    "g.distances(\n",
    "    # from\n",
    "    source=[0, 1], \n",
    "    # to\n",
    "    target=[2, 3], \n",
    "    # 参考权重\n",
    "    weights=g.es[\"w1\"]\n",
    ")"
   ]
  },
  {
   "cell_type": "markdown",
   "id": "eb3defc1",
   "metadata": {},
   "source": [
    "### 最小生成树"
   ]
  },
  {
   "cell_type": "code",
   "execution_count": 185,
   "id": "7a5708a2",
   "metadata": {},
   "outputs": [
    {
     "name": "stdout",
     "output_type": "stream",
     "text": [
      "最小生成树的权重和:  7\n"
     ]
    }
   ],
   "source": [
    "# 构成最小生成树的边\n",
    "mst_edges = g.spanning_tree(weights=g.es[\"w1\"], return_tree=False)\n",
    "print(\"最小生成树的权重和: \", sum(g.es[mst_edges][\"w1\"]))"
   ]
  }
 ],
 "metadata": {
  "kernelspec": {
   "display_name": "mcm",
   "language": "python",
   "name": "python3"
  },
  "language_info": {
   "codemirror_mode": {
    "name": "ipython",
    "version": 3
   },
   "file_extension": ".py",
   "mimetype": "text/x-python",
   "name": "python",
   "nbconvert_exporter": "python",
   "pygments_lexer": "ipython3",
   "version": "3.13.2"
  }
 },
 "nbformat": 4,
 "nbformat_minor": 5
}
