{
 "cells": [
  {
   "cell_type": "markdown",
   "id": "cede686f",
   "metadata": {},
   "source": [
    "# 图论"
   ]
  },
  {
   "cell_type": "markdown",
   "id": "a3ea148c",
   "metadata": {},
   "source": [
    "## 模型"
   ]
  },
  {
   "cell_type": "markdown",
   "id": "949999aa",
   "metadata": {},
   "source": [
    "## 实现\n",
    "\n",
    "选择了库 `igraph`"
   ]
  }
 ],
 "metadata": {
  "language_info": {
   "name": "python"
  }
 },
 "nbformat": 4,
 "nbformat_minor": 5
}
