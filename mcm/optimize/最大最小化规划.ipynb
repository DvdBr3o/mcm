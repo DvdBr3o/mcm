{
 "cells": [
  {
   "cell_type": "markdown",
   "id": "fc198964",
   "metadata": {},
   "source": [
    "# 最大最小化规划"
   ]
  },
  {
   "cell_type": "markdown",
   "id": "762b4a44",
   "metadata": {},
   "source": [
    "## 模型\n",
    "\n",
    "保证最差的情况尽可能最好 $\\Rightarrow$ 追求稳健性\n",
    "\n",
    "$$\n",
    "\\hat{f} = \\max{\\min{f(x)}}\n",
    "$$"
   ]
  },
  {
   "cell_type": "markdown",
   "id": "472da4a7",
   "metadata": {},
   "source": [
    "## 实现\n",
    "\n",
    "只需要按 [模型](#模型) 所述公式写 `minimize` 优化即可"
   ]
  },
  {
   "cell_type": "code",
   "execution_count": 17,
   "id": "fe571f44",
   "metadata": {},
   "outputs": [],
   "source": [
    "import numpy as np\n",
    "from scipy.optimize import minimize\n",
    "\n",
    "#! 修改附加条件\n",
    "a = np.array([1, 4, 3, 5, 9, 12, 6, 20, 17, 9])\n",
    "b = np.array([2, 10, 8, 18, 1, 4, 5, 10, 8, 9])\n",
    "#! 修改 f(x)\n",
    "objective = lambda x: np.max([np.abs(x[0] - a[i]) + np.abs(x[1] - b[i]) for i in range(10)])"
   ]
  },
  {
   "cell_type": "code",
   "execution_count": 18,
   "id": "ca922620",
   "metadata": {},
   "outputs": [
    {
     "name": "stdout",
     "output_type": "stream",
     "text": [
      "解向量:  [7.75000019 8.75000039]\n",
      "最优解:  13.500000579039686\n"
     ]
    }
   ],
   "source": [
    "res = minimize(\n",
    "    fun = objective,\n",
    "    x0 = (6, 6),\n",
    "    bounds = [\n",
    "        (3, 8),\n",
    "        (4, 10),\n",
    "    ],\n",
    "    method = \"SLSQP\"\n",
    ")\n",
    "\n",
    "print(\"解向量: \", res.x)\n",
    "print(\"最优解: \", objective(res.x))"
   ]
  }
 ],
 "metadata": {
  "kernelspec": {
   "display_name": "mcm",
   "language": "python",
   "name": "python3"
  },
  "language_info": {
   "codemirror_mode": {
    "name": "ipython",
    "version": 3
   },
   "file_extension": ".py",
   "mimetype": "text/x-python",
   "name": "python",
   "nbconvert_exporter": "python",
   "pygments_lexer": "ipython3",
   "version": "3.13.2"
  }
 },
 "nbformat": 4,
 "nbformat_minor": 5
}
