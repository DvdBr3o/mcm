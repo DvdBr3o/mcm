{
 "cells": [
  {
   "cell_type": "markdown",
   "id": "f808c743",
   "metadata": {},
   "source": [
    "# 整数规划"
   ]
  },
  {
   "cell_type": "markdown",
   "id": "51023264",
   "metadata": {},
   "source": [
    "## 模型\n",
    "\n",
    "整数域的规划问题\n",
    "\n",
    "[背包问题](https://blog.dvdbr3o.top/post/%E5%AD%A6%E6%9C%AF/%E7%AE%97%E6%B3%95%E7%AB%9E%E8%B5%9B/%E5%8A%A8%E6%80%81%E8%A7%84%E5%88%92/%E8%83%8C%E5%8C%85dp/) 就是一个很经典的整数规划问题"
   ]
  },
  {
   "cell_type": "markdown",
   "id": "59c2dee0",
   "metadata": {},
   "source": [
    "## 实现"
   ]
  },
  {
   "cell_type": "markdown",
   "id": "5f10ccc5",
   "metadata": {},
   "source": [
    "用到包 `PuLP`"
   ]
  },
  {
   "cell_type": "code",
   "execution_count": 97,
   "id": "9210097b",
   "metadata": {},
   "outputs": [],
   "source": [
    "import pulp\n",
    "from pulp import LpProblem, LpVariable\n",
    "\n",
    "#! 修改决策问题\n",
    "problem = LpProblem(\n",
    "    name = \"Problem_Name\",\n",
    "    # 最大值 LpMaximize\n",
    "    # 最小值 LpMinimize\n",
    "    sense = pulp.LpMaximize,\n",
    ")\n",
    "\n",
    "#! 修改决策变量\n",
    "x = LpVariable(\n",
    "    name = 'x', \n",
    "    lowBound = 0, \n",
    "    upBound = None,\n",
    "    # 连续变量\n",
    "    cat = 'Continuous',\n",
    ")\n",
    "y = LpVariable(\n",
    "    name = 'y', \n",
    "    lowBound = 0,\n",
    "    upBound = 10,\n",
    "    # 整数变量\n",
    "    cat = 'Integer',\n",
    ")\n",
    "z = LpVariable(\n",
    "    name = 'z',\n",
    "    # 0-1 变量\n",
    "    cat  = 'Binary',\n",
    ")\n",
    "\n",
    "#! 修改约束条件\n",
    "# 目标函数\n",
    "problem += 3 * x + 2 * y, \"Objective_Function\"\n",
    "# 约束条件 X + y <= 10\n",
    "problem += x + y <= 10, \"Constraints_1\"\n",
    "# 约束条件\n",
    "problem += x - y >= 2, \"Constraints_2\"\n",
    "# 约束条件 x + z == 1\n",
    "problem += x + z == 1, \"Constraint_3\""
   ]
  },
  {
   "cell_type": "code",
   "execution_count": 98,
   "id": "2163c4ff",
   "metadata": {},
   "outputs": [
    {
     "name": "stdout",
     "output_type": "stream",
     "text": [
      "解向量:  1.0 -1.0 0.0\n",
      "目标函数值:  1.0\n",
      "求解状态:  Infeasible\n"
     ]
    }
   ],
   "source": [
    "from pulp import value, LpStatus\n",
    "\n",
    "# 求解问题\n",
    "problem.solve()\n",
    "\n",
    "# 获取结果\n",
    "print(\"解向量: \", value(x), value(y), value(z))\n",
    "print(\"目标函数值: \", value(problem.objective))\n",
    "print(\"求解状态: \", LpStatus[problem.status])"
   ]
  },
  {
   "cell_type": "markdown",
   "id": "03f08158",
   "metadata": {},
   "source": [
    "### 组变量演示"
   ]
  },
  {
   "cell_type": "markdown",
   "id": "896beba5",
   "metadata": {},
   "source": [
    "### 完全背包"
   ]
  },
  {
   "cell_type": "code",
   "execution_count": 99,
   "id": "870c4e5b",
   "metadata": {},
   "outputs": [],
   "source": [
    "from pulp import LpProblem, LpVariable, lpSum\n",
    "\n",
    "#! 修改问题\n",
    "problem = LpProblem(\n",
    "    name = \"Group_Problem\",\n",
    "    sense = pulp.LpMaximize\n",
    ")\n",
    "\n",
    "#! 修改变量\n",
    "# 一组变量\n",
    "num = [\n",
    "    LpVariable(\n",
    "        name     = f\"num_{i}\", \n",
    "        cat      = 'Integer',\n",
    "        lowBound = 0,\n",
    "    ) \n",
    "    for i in range(10)\n",
    "]\n",
    "# 常量\n",
    "weights = [i + 1 for i in range(10)]\n",
    "profits = [60, 110, 200, 230, 300, 200, 120, 150, 600, 320]\n",
    "max_weight = 30\n",
    "\n",
    "#! 修改约束\n",
    "problem += lpSum(profits[i] * num[i] for i in range(10)), \"Objective_Profit\"\n",
    "problem += lpSum(weights[i] * num[i] for i in range(10)) <= max_weight, \"Constraints_Weight\"\n",
    "for i in range(10):\n",
    "    problem += num[i] >= 0, f\"Constraints_Positive_{i}\"\n"
   ]
  },
  {
   "cell_type": "code",
   "execution_count": 100,
   "id": "cc7b7839",
   "metadata": {},
   "outputs": [
    {
     "name": "stdout",
     "output_type": "stream",
     "text": [
      "解向量: [0.0, 0.0, 1.0, 0.0, 0.0, 0.0, 0.0, 0.0, 3.0, 0.0]\n",
      "最优解/最大利益:  2000.0\n"
     ]
    }
   ],
   "source": [
    "problem.solve()\n",
    "\n",
    "print(\"解向量:\", [value(num[i]) for i in range(10)])\n",
    "print(\"最优解/最大利益: \", value(problem.objective))"
   ]
  }
 ],
 "metadata": {
  "kernelspec": {
   "display_name": "mcm",
   "language": "python",
   "name": "python3"
  },
  "language_info": {
   "codemirror_mode": {
    "name": "ipython",
    "version": 3
   },
   "file_extension": ".py",
   "mimetype": "text/x-python",
   "name": "python",
   "nbconvert_exporter": "python",
   "pygments_lexer": "ipython3",
   "version": "3.13.2"
  }
 },
 "nbformat": 4,
 "nbformat_minor": 5
}
