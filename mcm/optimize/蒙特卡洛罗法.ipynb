{
 "cells": [
  {
   "cell_type": "markdown",
   "id": "e36c2ced",
   "metadata": {},
   "source": [
    "# 蒙特卡罗法"
   ]
  },
  {
   "cell_type": "markdown",
   "id": "43050484",
   "metadata": {},
   "source": [
    "## 模型\n",
    "\n",
    "1. 通过概率的数学表达式，得到关系式\n",
    "2. 通过大量试验，根据**大数定理**得到概率取值\n",
    "3. 代入概率，求解关系式，得到欲求量"
   ]
  },
  {
   "cell_type": "markdown",
   "id": "420ef04f",
   "metadata": {},
   "source": [
    "## 实现\n",
    "\n",
    "是思想，没有具体实现"
   ]
  }
 ],
 "metadata": {
  "language_info": {
   "name": "python"
  }
 },
 "nbformat": 4,
 "nbformat_minor": 5
}
