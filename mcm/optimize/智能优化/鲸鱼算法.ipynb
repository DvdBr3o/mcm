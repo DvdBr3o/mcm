{
 "cells": [
  {
   "cell_type": "markdown",
   "id": "13317314",
   "metadata": {},
   "source": [
    "# 鲸鱼算法 WOA"
   ]
  },
  {
   "cell_type": "markdown",
   "id": "b394f70f",
   "metadata": {},
   "source": [
    "## 模型\n",
    "\n",
    "```mermaid\n",
    "graph LR\n",
    "WHALE(鲸鱼算法) --->|p<0.5| GLOBAL(全局勘探)\n",
    "WHALE --->|p≥0.5| DETAIL(局部开发)\n",
    "GLOBAL --->| &vert;A&vert; > 1 | SEARCH(随机搜索)\n",
    "GLOBAL --->| &vert;A&vert; ≤ 1 | ENCLOSE(包围搜索) \n",
    "SEARCH ---> SEARCH_D(向随机个体靠拢，跳出局部最优解)\n",
    "ENCLOSE ---> ENCLOSE_D(向最优个体靠拢，寻找最优解)\n",
    "DETAIL ---> BUBBLE(起泡网捕食)\n",
    "BUBBLE ---> BUBBLE_D(螺旋搜索最优解，提高最优解精度)\n",
    "```"
   ]
  },
  {
   "cell_type": "markdown",
   "id": "f3f573ba",
   "metadata": {},
   "source": [
    "## 实现"
   ]
  },
  {
   "cell_type": "markdown",
   "id": "53593af0",
   "metadata": {},
   "source": [
    "### 框架"
   ]
  },
  {
   "cell_type": "code",
   "execution_count": null,
   "id": "d3cd4d0d",
   "metadata": {},
   "outputs": [],
   "source": [
    "import numpy as np\n",
    "from typing import List, Tuple, Callable\n",
    "\n",
    "type __Fn = Callable[[np.ndarray], float]\n",
    "\n",
    "def woa(\n",
    "    f: __Fn,\n",
    "    bounds: List[Tuple[float, float]] = [],\n",
    "    constraints: List[__Fn] = [],\n",
    "    penalty_factor: float = 0.3,\n",
    "    maxiter: int = int(1e4),\n",
    "):\n",
    "    def punish_f(x: np.ndarray) -> float:\n",
    "        obj_value = f(x)\n",
    "        violations = np.array([conn(x) for conn in constraints])\n",
    "        penalty = np.sum(np.where(violations > 0, violations ** 2, 0))\n",
    "        return obj_value + penalty_factor * penalty\n",
    "    \n",
    "    for _ in range(maxiter):\n",
    "        pass\n"
   ]
  },
  {
   "cell_type": "code",
   "execution_count": 10,
   "id": "7d09ae65",
   "metadata": {},
   "outputs": [],
   "source": [
    "result = woa(\n",
    "    f = lambda x: x[0] ** 2 + x[1] ** 2,\n",
    ")"
   ]
  },
  {
   "cell_type": "code",
   "execution_count": null,
   "id": "f7d06855",
   "metadata": {},
   "outputs": [],
   "source": []
  }
 ],
 "metadata": {
  "kernelspec": {
   "display_name": "mcm",
   "language": "python",
   "name": "python3"
  },
  "language_info": {
   "codemirror_mode": {
    "name": "ipython",
    "version": 3
   },
   "file_extension": ".py",
   "mimetype": "text/x-python",
   "name": "python",
   "nbconvert_exporter": "python",
   "pygments_lexer": "ipython3",
   "version": "3.13.2"
  }
 },
 "nbformat": 4,
 "nbformat_minor": 5
}
