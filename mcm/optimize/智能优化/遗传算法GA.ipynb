{
 "cells": [
  {
   "cell_type": "markdown",
   "id": "a1f24792",
   "metadata": {},
   "source": [
    "# 遗传算法 GA"
   ]
  },
  {
   "cell_type": "markdown",
   "metadata": {},
   "source": [
    "## 模型\n",
    "\n",
    "- 数据 $\\xrightarrow{编码}$ 染色体序列\n",
    "\n",
    "- 染色体杂交 + 变异，产生新染色体\n",
    "\n",
    "- 对所有染色体评估优性\n",
    "\n",
    "- 设定终止条件，给出最优解\n",
    "\n",
    "    - 检测个体是否高度相似趋于停滞\n",
    "\n",
    "    - ..."
   ]
  },
  {
   "cell_type": "markdown",
   "id": "3fc01b51",
   "metadata": {},
   "source": [
    "## 实现\n",
    "\n",
    "如果没有整数要求，直接用 `scipy` 的差分进化"
   ]
  },
  {
   "cell_type": "code",
   "execution_count": null,
   "id": "8574a088",
   "metadata": {},
   "outputs": [],
   "source": [
    "import numpy as np\n",
    "from scipy.optimize import differential_evolution\n",
    "\n",
    "x, y = differential_evolution(\n",
    "    func = lambda x: np.sum(x ** 2),\n",
    "    bounds = [],\n",
    "    constraints = [],\n",
    ")"
   ]
  },
  {
   "cell_type": "markdown",
   "id": "0dd9c914",
   "metadata": {},
   "source": [
    "如果有整数要求以及其他定制化要求，建议手搓"
   ]
  }
 ],
 "metadata": {
  "kernelspec": {
   "display_name": "mcm",
   "language": "python",
   "name": "python3"
  },
  "language_info": {
   "codemirror_mode": {
    "name": "ipython",
    "version": 3
   },
   "file_extension": ".py",
   "mimetype": "text/x-python",
   "name": "python",
   "nbconvert_exporter": "python",
   "pygments_lexer": "ipython3",
   "version": "3.13.2"
  }
 },
 "nbformat": 4,
 "nbformat_minor": 5
}
