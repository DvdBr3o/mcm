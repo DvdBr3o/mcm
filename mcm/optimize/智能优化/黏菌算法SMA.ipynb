{
 "cells": [
  {
   "cell_type": "markdown",
   "id": "f809d0f2",
   "metadata": {},
   "source": [
    "# 黏菌算法"
   ]
  },
  {
   "cell_type": "markdown",
   "id": "56be913b",
   "metadata": {},
   "source": [
    "## 模型\n",
    "\n"
   ]
  }
 ],
 "metadata": {
  "language_info": {
   "name": "python"
  }
 },
 "nbformat": 4,
 "nbformat_minor": 5
}
