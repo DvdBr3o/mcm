{
 "cells": [
  {
   "cell_type": "markdown",
   "id": "ded405d2",
   "metadata": {},
   "source": [
    "# 天牛须算法 BAS"
   ]
  },
  {
   "cell_type": "markdown",
   "id": "f594fe7c",
   "metadata": {},
   "source": [
    "## 模型\n",
    "\n",
    "天牛须算法因其原理简单、实现容易和计算量小而广受欢迎，尤其适用于解决一些中小规模的优化问题\n",
    "\n",
    "- 天牛：算法中的一个搜索代理，代表一个潜在的解。\n",
    "\n",
    "- 天牛的触须：天牛每次探测都会生成两个“触须”位置，分别在当前位置的左右两侧。\n",
    "\n",
    "- 气味强度：就是目标函数的值。气味越强（目标函数值越好），天牛越会朝那个方向移动。\n",
    "\n",
    "- 觅食过程：天牛通过比较左右触须位置的“气味强度”，来决定下一步的方向。如果左边气味更强，就朝左边走一步；如果右边气味更强，就朝右边走一步。\n",
    "\n",
    "### 超参数\n",
    "\n",
    "- 步长 $\\delta$: 天牛每走一步的距离\n",
    "\n",
    "- 探测方向向量 $b$: 天牛触须的长度和方向"
   ]
  },
  {
   "cell_type": "markdown",
   "id": "aa85b054",
   "metadata": {},
   "source": [
    "## 实现"
   ]
  },
  {
   "cell_type": "code",
   "execution_count": null,
   "id": "99bd8424",
   "metadata": {},
   "outputs": [],
   "source": []
  }
 ],
 "metadata": {
  "kernelspec": {
   "display_name": "mcm",
   "language": "python",
   "name": "python3"
  },
  "language_info": {
   "name": "python",
   "version": "3.13.2"
  }
 },
 "nbformat": 4,
 "nbformat_minor": 5
}
