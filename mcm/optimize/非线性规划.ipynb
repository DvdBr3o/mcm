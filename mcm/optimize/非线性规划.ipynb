{
 "cells": [
  {
   "cell_type": "markdown",
   "id": "a2114b2f",
   "metadata": {},
   "source": [
    "# 非线性规划"
   ]
  },
  {
   "cell_type": "markdown",
   "id": "974467cd",
   "metadata": {},
   "source": [
    "## 模型\n",
    "\n",
    "类似于线性规划，但是表达式含**非线性部分**，如 $x^{2}$, $e^{x}$, $\\ln{x}$ 等"
   ]
  },
  {
   "cell_type": "markdown",
   "id": "f5bbf078",
   "metadata": {},
   "source": [
    "## 实现"
   ]
  },
  {
   "cell_type": "markdown",
   "id": "e938fbf8",
   "metadata": {},
   "source": [
    "❗ 注意 python 中非线性规划的约束 `constraints` 是大于号方向 $g(x) \\geq 0$"
   ]
  },
  {
   "cell_type": "code",
   "execution_count": null,
   "id": "bd035c09",
   "metadata": {},
   "outputs": [
    {
     "name": "stdout",
     "output_type": "stream",
     "text": [
      "求解成功!\n",
      "最优值:  1.298862180714911e-07\n",
      "解向量:  [3.60397306e-04 1.05813740e-20]\n",
      "优化中止信息:  Optimization terminated successfully\n"
     ]
    }
   ],
   "source": [
    "import numpy as np\n",
    "from scipy.optimize import minimize\n",
    "\n",
    "#! 修改\n",
    "result = minimize(\n",
    "    # 初始值\n",
    "    x0  = [1, 2],\n",
    "    # 目标表达式\n",
    "    fun = lambda x, a, b: a * x[0] ** 2 + b * x[1] ** 2,\n",
    "    # 目标表达式参数\n",
    "    args = (1, 2), # a = 1, b = 2\n",
    "    # 取值范围约束\n",
    "    bounds = [\n",
    "        [0, None],\n",
    "        [0, None],\n",
    "    ],\n",
    "    # 表达式约束\n",
    "    constraints = [\n",
    "        { # x + y <= 1\n",
    "            'type': 'ineq',\n",
    "            'fun': lambda x: 1 - (x[0] + x[1])\n",
    "        },\n",
    "        { # x^2 + y^2 = 1\n",
    "            'type': 'eq',\n",
    "            'fun': lambda x: x[0] ** 2 + x[1] ** 2\n",
    "        }\n",
    "    ],\n",
    ")\n",
    "\n",
    "# print(result)\n",
    "print(f\"求解{result.success and \"成功\" or \"失败\"}!\")\n",
    "print(\"最优值: \", result.fun)\n",
    "print(\"解向量: \", result.x)\n",
    "print(\"优化中止信息: \", result.message)"
   ]
  }
 ],
 "metadata": {
  "kernelspec": {
   "display_name": "mcm",
   "language": "python",
   "name": "python3"
  },
  "language_info": {
   "codemirror_mode": {
    "name": "ipython",
    "version": 3
   },
   "file_extension": ".py",
   "mimetype": "text/x-python",
   "name": "python",
   "nbconvert_exporter": "python",
   "pygments_lexer": "ipython3",
   "version": "3.13.2"
  }
 },
 "nbformat": 4,
 "nbformat_minor": 5
}
