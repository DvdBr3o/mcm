{
 "cells": [
  {
   "cell_type": "markdown",
   "id": "a2114b2f",
   "metadata": {},
   "source": [
    "# 非线性规划"
   ]
  },
  {
   "cell_type": "markdown",
   "id": "974467cd",
   "metadata": {},
   "source": [
    "## 模型\n",
    "\n",
    "类似于线性规划，但是表达式含**非线性部分**，如 $x^{2}$, $e^{x}$, $\\ln{x}$ 等"
   ]
  },
  {
   "cell_type": "markdown",
   "id": "f5bbf078",
   "metadata": {},
   "source": [
    "## 实现"
   ]
  },
  {
   "cell_type": "markdown",
   "id": "e938fbf8",
   "metadata": {},
   "source": [
    "❗ 注意 python 中非线性规划的约束 `constraints` 是大于号方向 $g(x) \\geq 0$"
   ]
  },
  {
   "cell_type": "code",
   "execution_count": 19,
   "id": "bd035c09",
   "metadata": {},
   "outputs": [
    {
     "name": "stdout",
     "output_type": "stream",
     "text": [
      "求解成功!\n",
      "最优值:  1.298862180714911e-07\n",
      "解向量:  [3.60397306e-04 1.05813740e-20]\n",
      "优化中止信息:  Optimization terminated successfully\n"
     ]
    }
   ],
   "source": [
    "import numpy as np\n",
    "from scipy.optimize import minimize\n",
    "\n",
    "#! 修改\n",
    "result = minimize(\n",
    "    # 初始值\n",
    "    x0  = [1, 2],\n",
    "    # 目标表达式\n",
    "    fun = lambda x, a, b: a * x[0] ** 2 + b * x[1] ** 2,\n",
    "    # 目标表达式参数\n",
    "    args = (1, 2), # a = 1, b = 2\n",
    "    # 取值范围约束\n",
    "    bounds = [\n",
    "        [0, np.inf],\n",
    "        [0, np.inf],\n",
    "    ],\n",
    "    # 表达式约束\n",
    "    constraints = [\n",
    "        { # x + y <= 1\n",
    "            'type': 'ineq',\n",
    "            'fun': lambda x: 1 - (x[0] + x[1])\n",
    "        },\n",
    "        { # x^2 + y^2 = 1\n",
    "            'type': 'eq',\n",
    "            'fun': lambda x: x[0] ** 2 + x[1] ** 2\n",
    "        }\n",
    "    ],\n",
    ")\n",
    "\n",
    "# print(result)\n",
    "print(f\"求解{result.success and \"成功\" or \"失败\"}!\")\n",
    "print(\"最优值: \", result.fun)\n",
    "print(\"解向量: \", result.x)\n",
    "print(\"优化中止信息: \", result.message)"
   ]
  },
  {
   "cell_type": "markdown",
   "id": "4206c24a",
   "metadata": {},
   "source": [
    "### 模拟退火\n",
    "\n",
    "关注全局最优\n",
    "\n",
    "更多全局最优算法见 [scipy 官网](https://docs.scipy.org/doc/scipy/reference/optimize.html#global-optimization)"
   ]
  },
  {
   "cell_type": "code",
   "execution_count": 20,
   "id": "564324b6",
   "metadata": {},
   "outputs": [
    {
     "name": "stdout",
     "output_type": "stream",
     "text": [
      "求解成功!\n",
      "最优值:  1.2076512741469584e-07\n",
      "解向量:  [0.0003072  0.00011488]\n",
      "优化中止信息:  ['Maximum number of iteration reached']\n"
     ]
    }
   ],
   "source": [
    "import numpy as np\n",
    "from scipy.optimize import dual_annealing\n",
    "\n",
    "#! 修改\n",
    "# https://docs.scipy.org/doc/scipy/reference/generated/scipy.optimize.dual_annealing.html\n",
    "result = dual_annealing(\n",
    "    # 初始值\n",
    "    x0  = [1, 2],\n",
    "    # 目标表达式\n",
    "    func = lambda x, a, b: a * x[0] ** 2 + b * x[1] ** 2,\n",
    "    # 目标表达式参数\n",
    "    args = (1, 2), # a = 1, b = 2\n",
    "    # 取值范围约束\n",
    "    # 不允许无穷\n",
    "    bounds = [\n",
    "        (0, 1000000),\n",
    "        (0, 1000000),\n",
    "    ],\n",
    "    # 表达式约束\n",
    "    minimizer_kwargs = {\n",
    "        'constraints':  [\n",
    "            { # x + y <= 1\n",
    "                'type': 'ineq',\n",
    "                'fun': lambda x: 1 - (x[0] + x[1])\n",
    "            },\n",
    "            { # x^2 + y^2 = 1\n",
    "                'type': 'eq',\n",
    "                'fun': lambda x: x[0] ** 2 + x[1] ** 2\n",
    "            }\n",
    "        ],\n",
    "    },\n",
    "    # 最大迭代次数\n",
    "    maxiter = int(1e3),\n",
    ")\n",
    "\n",
    "# print(result)\n",
    "print(f\"求解{result.success and \"成功\" or \"失败\"}!\")\n",
    "print(\"最优值: \", result.fun)\n",
    "print(\"解向量: \", result.x)\n",
    "print(\"优化中止信息: \", result.message)"
   ]
  },
  {
   "cell_type": "markdown",
   "id": "0efffa51",
   "metadata": {},
   "source": [
    "### Gurobipy\n",
    "\n",
    "`Gurobipy` 在大型数据的计算中更快，但是目标类型和约束类型比较受限，只支持最高二次"
   ]
  },
  {
   "cell_type": "code",
   "execution_count": null,
   "id": "93d5a4b2",
   "metadata": {},
   "outputs": [
    {
     "name": "stdout",
     "output_type": "stream",
     "text": [
      "Set parameter MIPGap to value 0.01\n",
      "Gurobi Optimizer version 12.0.3 build v12.0.3rc0 (win64 - Windows 11.0 (26100.2))\n",
      "\n",
      "CPU model: 13th Gen Intel(R) Core(TM) i9-13980HX, instruction set [SSE2|AVX|AVX2]\n",
      "Thread count: 24 physical cores, 32 logical processors, using up to 32 threads\n",
      "\n",
      "Non-default parameters:\n",
      "MIPGap  0.01\n",
      "\n",
      "Optimize a model with 1 rows, 62 columns and 61 nonzeros\n",
      "Model fingerprint: 0xac715989\n",
      "Model has 1 quadratic objective term\n",
      "Variable types: 60 continuous, 2 integer (1 binary)\n",
      "Coefficient statistics:\n",
      "  Matrix range     [1e+00, 1e+00]\n",
      "  Objective range  [1e+00, 1e+00]\n",
      "  QObjective range [2e+00, 2e+00]\n",
      "  Bounds range     [1e+00, 1e+01]\n",
      "  RHS range        [0e+00, 0e+00]\n",
      "Found heuristic solution: objective -0.0000000\n",
      "Found heuristic solution: objective 5.0000000\n",
      "Presolve removed 1 rows and 62 columns\n",
      "Presolve time: 0.00s\n",
      "Presolve: All rows and columns removed\n",
      "\n",
      "Explored 0 nodes (0 simplex iterations) in 0.01 seconds (0.00 work units)\n",
      "Thread count was 1 (of 32 available processors)\n",
      "\n",
      "Solution count 3: 10 5 -0 \n",
      "\n",
      "Optimal solution found (tolerance 1.00e-02)\n",
      "Best objective 1.000000000000e+01, best bound 1.000000000000e+01, gap 0.0000%\n",
      "最优解:  10.0\n",
      "X[0, 0, 0] = 0.0\n",
      "X[0, 0, 1] = 0.0\n",
      "X[0, 0, 2] = 0.0\n",
      "X[0, 0, 3] = 0.0\n",
      "X[0, 0, 4] = 0.0\n",
      "X[0, 1, 0] = 0.0\n",
      "X[0, 1, 1] = 0.0\n",
      "X[0, 1, 2] = 0.0\n",
      "X[0, 1, 3] = 0.0\n",
      "X[0, 1, 4] = 0.0\n",
      "X[0, 2, 0] = 0.0\n",
      "X[0, 2, 1] = 0.0\n",
      "X[0, 2, 2] = 0.0\n",
      "X[0, 2, 3] = 0.0\n",
      "X[0, 2, 4] = 0.0\n",
      "X[0, 3, 0] = 0.0\n",
      "X[0, 3, 1] = 0.0\n",
      "X[0, 3, 2] = 0.0\n",
      "X[0, 3, 3] = 0.0\n",
      "X[0, 3, 4] = 0.0\n",
      "X[1, 0, 0] = 0.0\n",
      "X[1, 0, 1] = 0.0\n",
      "X[1, 0, 2] = 0.0\n",
      "X[1, 0, 3] = 0.0\n",
      "X[1, 0, 4] = 0.0\n",
      "X[1, 1, 0] = 0.0\n",
      "X[1, 1, 1] = 0.0\n",
      "X[1, 1, 2] = 0.0\n",
      "X[1, 1, 3] = 0.0\n",
      "X[1, 1, 4] = 0.0\n",
      "X[1, 2, 0] = 0.0\n",
      "X[1, 2, 1] = 0.0\n",
      "X[1, 2, 2] = 0.0\n",
      "X[1, 2, 3] = 0.0\n",
      "X[1, 2, 4] = 0.0\n",
      "X[1, 3, 0] = 0.0\n",
      "X[1, 3, 1] = 0.0\n",
      "X[1, 3, 2] = 0.0\n",
      "X[1, 3, 3] = 0.0\n",
      "X[1, 3, 4] = 0.0\n",
      "X[2, 0, 0] = 0.0\n",
      "X[2, 0, 1] = 0.0\n",
      "X[2, 0, 2] = 0.0\n",
      "X[2, 0, 3] = 0.0\n",
      "X[2, 0, 4] = 0.0\n",
      "X[2, 1, 0] = 0.0\n",
      "X[2, 1, 1] = 0.0\n",
      "X[2, 1, 2] = 0.0\n",
      "X[2, 1, 3] = 0.0\n",
      "X[2, 1, 4] = 0.0\n",
      "X[2, 2, 0] = 0.0\n",
      "X[2, 2, 1] = 0.0\n",
      "X[2, 2, 2] = 0.0\n",
      "X[2, 2, 3] = 0.0\n",
      "X[2, 2, 4] = 0.0\n",
      "X[2, 3, 0] = 0.0\n",
      "X[2, 3, 1] = 0.0\n",
      "X[2, 3, 2] = 0.0\n",
      "X[2, 3, 3] = 0.0\n",
      "X[2, 3, 4] = 5.0\n",
      "y = 5.0\n",
      "z = 1.0\n"
     ]
    }
   ],
   "source": [
    "import gurobipy as grb\n",
    "\n",
    "model = grb.Model('My_Problem')\n",
    "\n",
    "# 创建多下标变量 X[3, 4, 5]\n",
    "X = model.addVars(3, 4, 5, lb=0.0, ub=10.0, vtype=grb.GRB.CONTINUOUS)\n",
    "# 创建离散变量\n",
    "y = model.addVar(ub=5, vtype=grb.GRB.INTEGER)\n",
    "ey = model.addVar(); model.addGenConstrExp(y, ey) # ey = e^y\n",
    "# 创建布尔变量\n",
    "z = model.addVar(vtype=grb.GRB.BINARY)\n",
    "\n",
    "# 创建目标函数\n",
    "model.setObjective(X.sum() + y * z, grb.GRB.MAXIMIZE)\n",
    "\n",
    "# 添加约束\n",
    "model.addConstr(X.sum() <= y)\n",
    "\n",
    "model.setParam('MIPGap', 0.01)\n",
    "\n",
    "model.optimize()\n",
    "\n",
    "if model.Status == grb.GRB.OPTIMAL:\n",
    "    print(\"最优解: \", model.ObjVal)\n",
    "    for i in range(3):\n",
    "        for j in range(4):\n",
    "            for k in range(5):\n",
    "                print(f\"X[{i}, {j}, {k}] = {X[i, j, k].X}\")\n",
    "    print(f\"y = {y.X}\")\n",
    "    print(f\"z = {z.X}\")"
   ]
  }
 ],
 "metadata": {
  "kernelspec": {
   "display_name": "mcm",
   "language": "python",
   "name": "python3"
  },
  "language_info": {
   "codemirror_mode": {
    "name": "ipython",
    "version": 3
   },
   "file_extension": ".py",
   "mimetype": "text/x-python",
   "name": "python",
   "nbconvert_exporter": "python",
   "pygments_lexer": "ipython3",
   "version": "3.13.2"
  }
 },
 "nbformat": 4,
 "nbformat_minor": 5
}
