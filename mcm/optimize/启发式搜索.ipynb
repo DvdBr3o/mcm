{
 "cells": [
  {
   "cell_type": "markdown",
   "id": "ad17364a",
   "metadata": {},
   "source": [
    "# 启发式搜索"
   ]
  },
  {
   "cell_type": "markdown",
   "id": "57202706",
   "metadata": {},
   "source": [
    "## 模型"
   ]
  },
  {
   "cell_type": "markdown",
   "id": "461d9b37",
   "metadata": {},
   "source": [
    "### 模拟退火算法"
   ]
  },
  {
   "cell_type": "markdown",
   "id": "e434eb10",
   "metadata": {},
   "source": [
    "### 粒子群算法"
   ]
  },
  {
   "cell_type": "markdown",
   "id": "5ef3b0f7",
   "metadata": {},
   "source": [
    "### 蚁群算法"
   ]
  }
 ],
 "metadata": {
  "language_info": {
   "name": "python"
  }
 },
 "nbformat": 4,
 "nbformat_minor": 5
}
