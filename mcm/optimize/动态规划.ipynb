{
 "cells": [
  {
   "cell_type": "markdown",
   "id": "bb452fab",
   "metadata": {},
   "source": [
    "## 动态规划 DP"
   ]
  },
  {
   "cell_type": "markdown",
   "id": "96e02d6f",
   "metadata": {},
   "source": [
    "见洛谷，oi-wiki，算法竞赛\n",
    "\n",
    "这是个无底洞\n",
    "\n",
    "重点在于设计 **状态** 和 **状态转移方程**"
   ]
  }
 ],
 "metadata": {
  "language_info": {
   "name": "python"
  }
 },
 "nbformat": 4,
 "nbformat_minor": 5
}
