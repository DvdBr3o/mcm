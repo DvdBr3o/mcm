{
 "cells": [
  {
   "cell_type": "markdown",
   "id": "ed2e1ffc",
   "metadata": {},
   "source": [
    "# 智能优化"
   ]
  },
  {
   "cell_type": "markdown",
   "id": "1b9bec7a",
   "metadata": {},
   "source": [
    "- 进化算法\n",
    "\n",
    "    - [遗传算法 GA](./智能优化/遗传算法GA.ipynb)\n",
    "\n",
    "    - 差分优化 DE\n",
    "\n",
    "- 仿自然优化\n",
    "\n",
    "    - 开普勒 KOA\n",
    "\n",
    "    - 中心引力 CFO\n",
    "\n",
    "- 仿人类优化\n",
    "\n",
    "    - 免疫 IA\n",
    "\n",
    "    - 思维进化 MEA\n",
    "\n",
    "- 群体智能 SI\n",
    "\n",
    "    - 粒子群 PSO\n",
    "\n",
    "    - 鲸鱼 WOA\n"
   ]
  }
 ],
 "metadata": {
  "language_info": {
   "name": "python"
  }
 },
 "nbformat": 4,
 "nbformat_minor": 5
}
