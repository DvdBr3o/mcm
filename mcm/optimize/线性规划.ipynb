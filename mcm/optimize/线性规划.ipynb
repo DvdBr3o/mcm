{
 "cells": [
  {
   "cell_type": "markdown",
   "id": "1aaf7284",
   "metadata": {},
   "source": [
    "# 线性规划"
   ]
  },
  {
   "cell_type": "markdown",
   "id": "f86ddff6",
   "metadata": {},
   "source": [
    "## 模型\n",
    "\n"
   ]
  },
  {
   "cell_type": "markdown",
   "id": "004d0776",
   "metadata": {},
   "source": [
    "## 实现"
   ]
  },
  {
   "cell_type": "markdown",
   "id": "dd1ead2c",
   "metadata": {},
   "source": [
    "主要是关注 `scipy.optimize.linprog` 函数\n",
    "\n",
    "- `c`:\n",
    "    目标函数系数\n",
    "\n",
    "- `A_ub` & `b_ub`:\n",
    "\n",
    "    $$\n",
    "    A_{ub} \\cdot x \\leq b_{ub}\n",
    "    $$\n",
    "\n",
    "- `A_eq` & `b_eq`:\n",
    "\n",
    "    $$\n",
    "    A_{eq} \\cdot x \\leq b_{eq}\n",
    "    $$\n",
    "\n",
    "- `bounds`:\n",
    "\n",
    "    $$\n",
    "    \\forall x \\in \\forall bounds\n",
    "    $$\n",
    "\n",
    "且最后求的是 **最小值**\n",
    "\n",
    "比如例子中, 已知:\n",
    "\n",
    "- $4x + 8y + 15z \\leq 100$\n",
    "\n",
    "- $x + y + z \\leq 20$\n",
    "\n",
    "- $x, y, z \\geq 0$\n",
    "\n",
    "欲求:\n",
    "\n",
    "- $20x + -30y + -45z$ 最小值"
   ]
  },
  {
   "cell_type": "code",
   "execution_count": null,
   "id": "c7c7d64a",
   "metadata": {},
   "outputs": [
    {
     "name": "stdout",
     "output_type": "stream",
     "text": [
      "最优解 (最小值):  -450.0\n",
      "解向量:  [15.  5.  0.]\n"
     ]
    }
   ],
   "source": [
    "import numpy as np\n",
    "from scipy.optimize import linprog\n",
    "\n",
    "result = linprog(   \n",
    "    c      = [-20, -30, -45],\n",
    "    A_ub   = [\n",
    "        [4, 8, 15],\n",
    "        [1, 1, 1],\n",
    "    ],\n",
    "    b_ub   = [\n",
    "        100,\n",
    "        20,\n",
    "    ],\n",
    "    # A_eq = [],\n",
    "    # b_eq = [],\n",
    "    bounds = [\n",
    "        [0,None],\n",
    "        [0,None],\n",
    "        [0,None],\n",
    "    ],\n",
    ")\n",
    "\n",
    "# print(result)\n",
    "print(\"最优解 (最小值): \", result.fun)\n",
    "print(\"解向量: \", result.x)"
   ]
  }
 ],
 "metadata": {
  "kernelspec": {
   "display_name": "mcm",
   "language": "python",
   "name": "python3"
  },
  "language_info": {
   "codemirror_mode": {
    "name": "ipython",
    "version": 3
   },
   "file_extension": ".py",
   "mimetype": "text/x-python",
   "name": "python",
   "nbconvert_exporter": "python",
   "pygments_lexer": "ipython3",
   "version": "3.13.2"
  }
 },
 "nbformat": 4,
 "nbformat_minor": 5
}
