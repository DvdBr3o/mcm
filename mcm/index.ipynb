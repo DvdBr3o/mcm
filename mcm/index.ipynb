{
 "cells": [
  {
   "cell_type": "markdown",
   "id": "464d598d",
   "metadata": {},
   "source": [
    "<h1 align=\"center\">mcm 目录</h1>\n",
    "\n",
    "---\n"
   ]
  },
  {
   "cell_type": "markdown",
   "id": "f3483d9e",
   "metadata": {},
   "source": [
    "- [评价类](./evaluate.ipynb)\n",
    "\n",
    "- [优化类](./optimize.ipynb)\n",
    "\n",
    "- [预测类](./predict.ipynb)"
   ]
  }
 ],
 "metadata": {
  "language_info": {
   "name": "python"
  }
 },
 "nbformat": 4,
 "nbformat_minor": 5
}
