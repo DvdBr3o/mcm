{
 "cells": [
  {
   "cell_type": "markdown",
   "id": "f143fe9d",
   "metadata": {},
   "source": [
    "# 时序模型"
   ]
  },
  {
   "cell_type": "markdown",
   "id": "da51290f",
   "metadata": {},
   "source": [
    "- [灰色预测](./时序模型/灰色预测.ipynb)\n",
    "\n",
    "- [ARIMA 模型](./时序模型/ARIMA.ipynb)"
   ]
  }
 ],
 "metadata": {
  "language_info": {
   "name": "python"
  }
 },
 "nbformat": 4,
 "nbformat_minor": 5
}
