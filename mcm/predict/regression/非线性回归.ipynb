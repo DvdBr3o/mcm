{
 "cells": [
  {
   "cell_type": "markdown",
   "id": "6681e554",
   "metadata": {},
   "source": [
    "# 非线性回归"
   ]
  },
  {
   "cell_type": "markdown",
   "id": "99faedd1",
   "metadata": {},
   "source": [
    "## 模型\n",
    "\n",
    "回归曲线不符合线性模型\n",
    "\n",
    "### 解决方案\n",
    "\n",
    "1. 先画出散点图，观察形态\n",
    "\n",
    "2. 根据图像选择拟合方法\n",
    "\n",
    "    - 配曲线法\n",
    "\n",
    "        用带参数的曲线模型，求参数拟合\n",
    "\n",
    "    - 多项式法\n",
    "\n",
    "        用多项式拟合"
   ]
  },
  {
   "cell_type": "markdown",
   "id": "34c76415",
   "metadata": {},
   "source": [
    "## 实现"
   ]
  },
  {
   "cell_type": "code",
   "execution_count": 628,
   "id": "e64b6b95",
   "metadata": {},
   "outputs": [],
   "source": [
    "import numpy as np\n",
    "\n",
    "#! 修改统计学参数\n",
    "# 置信水平\n",
    "ALPHA = .05"
   ]
  },
  {
   "cell_type": "markdown",
   "id": "6f1db433",
   "metadata": {},
   "source": [
    "### 配曲线法"
   ]
  },
  {
   "cell_type": "code",
   "execution_count": 629,
   "id": "0cf32380",
   "metadata": {},
   "outputs": [],
   "source": [
    "from scipy.optimize import curve_fit\n",
    "\n",
    "#! 修改训练集数据\n",
    "true_func = lambda x: 2 * np.exp(-3 / x) + 1\n",
    "x_data = np.linspace(0.1, 5, 100)\n",
    "y_data = true_func(x_data) + np.random.normal(0, 0.01, x_data.shape)\n",
    "\n",
    "#! 修改建模曲线\n",
    "# x 可以是多元元组\n",
    "model_func = lambda x, a, b, c: a * np.exp(b / x) + c"
   ]
  },
  {
   "cell_type": "markdown",
   "id": "8ea5b26f",
   "metadata": {},
   "source": [
    "#### 拟合"
   ]
  },
  {
   "cell_type": "code",
   "execution_count": 630,
   "id": "020e15b6",
   "metadata": {},
   "outputs": [
    {
     "name": "stdout",
     "output_type": "stream",
     "text": [
      "拟合结果参数: [ 2.01501062 -3.030604    1.00280292]\n"
     ]
    }
   ],
   "source": [
    "popt, pcov = curve_fit(\n",
    "    f = model_func,\n",
    "    xdata = x_data,\n",
    "    ydata = y_data,\n",
    "    # 最大迭代次数\n",
    "    maxfev=10000, \n",
    "    # 参数初始值\n",
    "    #* 在该例中初始参数值不正确给定则无法正确拟合\n",
    "    p0=[0, -.1, .1],\n",
    ")\n",
    "pfit = lambda x: model_func(x, *popt)\n",
    "\n",
    "print(f\"拟合结果参数: {popt}\")"
   ]
  },
  {
   "cell_type": "markdown",
   "id": "1db13a92",
   "metadata": {},
   "source": [
    "#### 显著性验证"
   ]
  },
  {
   "cell_type": "markdown",
   "id": "e8b95942",
   "metadata": {},
   "source": [
    "采用 t 检验"
   ]
  },
  {
   "cell_type": "code",
   "execution_count": 631,
   "id": "3a16f787",
   "metadata": {},
   "outputs": [
    {
     "name": "stdout",
     "output_type": "stream",
     "text": [
      "\n",
      "--- 显著性检验结果 ---\n",
      "系数 0 (popt[0]):\n",
      "  估计值：2.0150\n",
      "  标准误差：0.0098\n",
      "  t-统计量：205.8403\n",
      "  95.00% 置信区间: [1.9956, 2.0344]\n",
      "  p 值: 6.393396386687502e-130\n",
      "  --> 参数显著！\n",
      "系数 1 (popt[1]):\n",
      "  估计值：-3.0306\n",
      "  标准误差：0.0220\n",
      "  t-统计量：-137.6650\n",
      "  95.00% 置信区间: [-3.0743, -2.9869]\n",
      "  p 值: 4.93766794831834e-113\n",
      "  --> 参数显著！\n",
      "系数 2 (popt[2]):\n",
      "  估计值：1.0028\n",
      "  标准误差：0.0025\n",
      "  t-统计量：395.2727\n",
      "  95.00% 置信区间: [0.9978, 1.0078]\n",
      "  p 值: 2.259076956410704e-157\n",
      "  --> 参数显著！\n"
     ]
    }
   ],
   "source": [
    "from scipy.stats import t\n",
    "\n",
    "# 计算自由度（degrees of freedom）\n",
    "# 自由度 = 样本数 - 参数个数\n",
    "df = len(x_data) - len(popt)\n",
    "\n",
    "# 计算标准误差\n",
    "perr = np.sqrt(np.diag(pcov))\n",
    "z_value = t.ppf(1 - ALPHA / 2, df) # 95% 置信水平的 z 值\n",
    "\n",
    "# 计算 t-统计量\n",
    "t_values = popt / perr\n",
    "\n",
    "# 计算 p 值\n",
    "p = 2 * t.sf(np.abs(t_values), df)\n",
    "\n",
    "print(\"\\n--- 显著性检验结果 ---\")\n",
    "for i, (p_val, p_err, t_val, pp) in enumerate(zip(popt, perr, t_values, p)):\n",
    "    lower_bound = p_val - z_value * p_err\n",
    "    upper_bound = p_val + z_value * p_err\n",
    "    \n",
    "    print(f\"系数 {i} (popt[{i}]):\")\n",
    "    print(f\"  估计值：{p_val:.4f}\")\n",
    "    print(f\"  标准误差：{p_err:.4f}\")\n",
    "    print(f\"  t-统计量：{t_val:.4f}\")\n",
    "    print(f\"  {1 - ALPHA:.2%} 置信区间: [{lower_bound:.4f}, {upper_bound:.4f}]\")\n",
    "    print(f\"  p 值: {pp}\")\n",
    "    \n",
    "    # 判断显著性\n",
    "    if pp <= ALPHA:\n",
    "        print(\"  --> 参数显著！\")\n",
    "    else:\n",
    "        print(\"  --> 参数不显著 (置信区间包含0)。\")"
   ]
  },
  {
   "cell_type": "code",
   "execution_count": 632,
   "id": "bcfd401f",
   "metadata": {},
   "outputs": [
    {
     "name": "stdout",
     "output_type": "stream",
     "text": [
      "拟合得到的 R^2 值为: 0.9993\n"
     ]
    }
   ],
   "source": [
    "# 2. 使用 curve_fit 进行拟合\n",
    "y_fit = pfit(x_data)\n",
    "\n",
    "# 3. 计算 R^2\n",
    "# 计算因变量的均值\n",
    "y_mean = np.mean(y_data)\n",
    "\n",
    "# 计算总平方和 (SST)\n",
    "# 总变异 = (原始数据点 - 均值) 的平方和\n",
    "sst = np.sum((y_data - y_mean)**2)\n",
    "\n",
    "# 计算残差平方和 (SSR)\n",
    "# 未解释的变异 = (原始数据点 - 拟合曲线) 的平方和\n",
    "ssr = np.sum((y_data - y_fit)**2)\n",
    "\n",
    "# 计算 R^2\n",
    "r_squared = 1 - (ssr / sst)\n",
    "\n",
    "print(f\"拟合得到的 R^2 值为: {r_squared:.4f}\")"
   ]
  },
  {
   "cell_type": "markdown",
   "id": "f148d48d",
   "metadata": {},
   "source": [
    "#### 绘图"
   ]
  },
  {
   "cell_type": "code",
   "execution_count": 633,
   "id": "5a74f902",
   "metadata": {},
   "outputs": [
    {
     "data": {
      "image/png": "[encoded data removed]",
      "text/plain": [
       "<Figure size 1000x600 with 1 Axes>"
      ]
     },
     "metadata": {},
     "output_type": "display_data"
    }
   ],
   "source": [
    "import matplotlib.pyplot as plt\n",
    "\n",
    "plt.rcParams['font.family'] = 'SimHei' # 中文支持\n",
    "\n",
    "fig, ax = plt.subplots(figsize=(10, 6))\n",
    "\n",
    "# 绘制原始数据\n",
    "ax.scatter(x_data, y_data, label='原始数据')\n",
    "\n",
    "# 绘制拟合曲线\n",
    "ax.plot(x_data, model_func(x_data, *popt), color='red', label='拟合曲线')\n",
    "\n",
    "ax.grid(True)\n",
    "ax.legend()\n",
    "plt.show()"
   ]
  },
  {
   "cell_type": "markdown",
   "id": "5739849b",
   "metadata": {},
   "source": [
    "### 多项式法"
   ]
  },
  {
   "cell_type": "code",
   "execution_count": 634,
   "id": "46b2642d",
   "metadata": {},
   "outputs": [],
   "source": [
    "import numpy as np\n",
    "\n",
    "#! 修改训练集数据\n",
    "true_func = lambda x: 1 + 2 * x + 3 * x ** 2\n",
    "x_data = np.linspace(0.1, 5, 100)\n",
    "y_data = true_func(x_data) + np.random.normal(0, 1, x_data.shape)\n",
    "\n",
    "#! 修改拟合参数\n",
    "# 最高次项\n",
    "# 过低细节不足，过高过拟合/显著性低\n",
    "DEG = 2"
   ]
  },
  {
   "cell_type": "markdown",
   "id": "bbce7332",
   "metadata": {},
   "source": [
    "#### 拟合"
   ]
  },
  {
   "cell_type": "code",
   "execution_count": 635,
   "id": "8e77b17b",
   "metadata": {},
   "outputs": [
    {
     "name": "stdout",
     "output_type": "stream",
     "text": [
      "拟合结果参数(从高阶到低阶): [2.96986901 2.32515291 0.40207944]\n"
     ]
    }
   ],
   "source": [
    "popt, pcov = np.polyfit(x_data, y_data, deg=DEG, cov=True)\n",
    "pfit = np.poly1d(popt)\n",
    "\n",
    "print(f\"拟合结果参数(从高阶到低阶): {popt}\")"
   ]
  },
  {
   "cell_type": "markdown",
   "id": "994800a3",
   "metadata": {},
   "source": [
    "#### 显著性检验"
   ]
  },
  {
   "cell_type": "markdown",
   "id": "709ac8df",
   "metadata": {},
   "source": [
    "采用 t 检验"
   ]
  },
  {
   "cell_type": "code",
   "execution_count": 636,
   "id": "e45ef0d2",
   "metadata": {},
   "outputs": [
    {
     "name": "stdout",
     "output_type": "stream",
     "text": [
      "\n",
      "--- 显著性检验结果 ---\n",
      "系数 0 (popt[0]):\n",
      "  估计值：2.9699\n",
      "  标准误差：0.0527\n",
      "  t-统计量：56.3267\n",
      "  95.00% 置信区间: [2.8652, 3.0745]\n",
      "  p 值: 6.586576956488143e-76\n",
      "  --> 参数显著！\n",
      "系数 1 (popt[1]):\n",
      "  估计值：2.3252\n",
      "  标准误差：0.2772\n",
      "  t-统计量：8.3876\n",
      "  95.00% 置信区间: [1.7750, 2.8753]\n",
      "  p 值: 3.999682922477658e-13\n",
      "  --> 参数显著！\n",
      "系数 2 (popt[2]):\n",
      "  估计值：0.4021\n",
      "  标准误差：0.3068\n",
      "  t-统计量：1.3107\n",
      "  95.00% 置信区间: [-0.2068, 1.0109]\n",
      "  p 值: 0.19305095573327546\n",
      "  --> 参数不显著。\n"
     ]
    }
   ],
   "source": [
    "from scipy.stats import t\n",
    "\n",
    "# 计算自由度（degrees of freedom）\n",
    "# 自由度 = 样本数 - 参数个数\n",
    "df = len(x_data) - len(popt)\n",
    "\n",
    "# 计算标准误差\n",
    "perr = np.sqrt(np.diag(pcov))\n",
    "z_value = t.ppf(1 - ALPHA / 2, df) # 95% 置信水平的 z 值\n",
    "\n",
    "# 计算 t-统计量\n",
    "t_values = popt / perr\n",
    "\n",
    "# 计算 p 值\n",
    "p = 2 * t.sf(np.abs(t_values), df)\n",
    "\n",
    "print(\"\\n--- 显著性检验结果 ---\")\n",
    "for i, (p_val, p_err, t_val, pp) in enumerate(zip(popt, perr, t_values, p)):\n",
    "    lower_bound = p_val - z_value * p_err\n",
    "    upper_bound = p_val + z_value * p_err\n",
    "    \n",
    "    print(f\"系数 {i} (popt[{i}]):\")\n",
    "    print(f\"  估计值：{p_val:.4f}\")\n",
    "    print(f\"  标准误差：{p_err:.4f}\")\n",
    "    print(f\"  t-统计量：{t_val:.4f}\")\n",
    "    print(f\"  {1 - ALPHA:.2%} 置信区间: [{lower_bound:.4f}, {upper_bound:.4f}]\")\n",
    "    print(f\"  p 值: {pp}\")\n",
    "    \n",
    "    # 判断显著性\n",
    "    if pp <= ALPHA:\n",
    "        print(\"  --> 参数显著！\")\n",
    "    else:\n",
    "        print(\"  --> 参数不显著。\")"
   ]
  },
  {
   "cell_type": "code",
   "execution_count": 637,
   "id": "e4f34f85",
   "metadata": {},
   "outputs": [
    {
     "name": "stdout",
     "output_type": "stream",
     "text": [
      "拟合得到的 R^2 值为: 0.9986\n"
     ]
    }
   ],
   "source": [
    "# 2. 使用 curve_fit 进行拟合\n",
    "y_fit = pfit(x_data)\n",
    "\n",
    "# 3. 计算 R^2\n",
    "# 计算因变量的均值\n",
    "y_mean = np.mean(y_data)\n",
    "\n",
    "# 计算总平方和 (SST)\n",
    "# 总变异 = (原始数据点 - 均值) 的平方和\n",
    "sst = np.sum((y_data - y_mean)**2)\n",
    "\n",
    "# 计算残差平方和 (SSR)\n",
    "# 未解释的变异 = (原始数据点 - 拟合曲线) 的平方和\n",
    "ssr = np.sum((y_data - y_fit)**2)\n",
    "\n",
    "# 计算 R^2\n",
    "r_squared = 1 - (ssr / sst)\n",
    "\n",
    "print(f\"拟合得到的 R^2 值为: {r_squared:.4f}\")"
   ]
  },
  {
   "cell_type": "markdown",
   "id": "196c0844",
   "metadata": {},
   "source": [
    "#### 绘图"
   ]
  },
  {
   "cell_type": "code",
   "execution_count": 638,
   "id": "c4994bc7",
   "metadata": {},
   "outputs": [
    {
     "data": {
      "image/png": "[encoded data removed]",
      "text/plain": [
       "<Figure size 1000x600 with 1 Axes>"
      ]
     },
     "metadata": {},
     "output_type": "display_data"
    }
   ],
   "source": [
    "import matplotlib.pyplot as plt\n",
    "\n",
    "plt.rcParams['font.family'] = 'SimHei' # 中文支持\n",
    "\n",
    "fig, ax = plt.subplots(figsize=(10, 6))\n",
    "\n",
    "# 绘制原始数据\n",
    "ax.scatter(x_data, y_data, label='原始数据')\n",
    "\n",
    "# 绘制拟合曲线\n",
    "ax.plot(x_data, np.poly1d(popt)(x_data), color='red', label='拟合曲线')\n",
    "\n",
    "ax.grid(True)\n",
    "ax.legend()\n",
    "plt.show()"
   ]
  }
 ],
 "metadata": {
  "kernelspec": {
   "display_name": "mcm",
   "language": "python",
   "name": "python3"
  },
  "language_info": {
   "codemirror_mode": {
    "name": "ipython",
    "version": 3
   },
   "file_extension": ".py",
   "mimetype": "text/x-python",
   "name": "python",
   "nbconvert_exporter": "python",
   "pygments_lexer": "ipython3",
   "version": "3.13.2"
  }
 },
 "nbformat": 4,
 "nbformat_minor": 5
}
