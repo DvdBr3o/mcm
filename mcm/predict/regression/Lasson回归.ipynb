{
 "cells": [
  {
   "cell_type": "markdown",
   "id": "e9fc047b",
   "metadata": {},
   "source": [
    "# Lasson 回归"
   ]
  },
  {
   "cell_type": "markdown",
   "id": "6b86c0cf",
   "metadata": {},
   "source": [
    "## 模型\n",
    "\n"
   ]
  }
 ],
 "metadata": {
  "language_info": {
   "name": "python"
  }
 },
 "nbformat": 4,
 "nbformat_minor": 5
}
