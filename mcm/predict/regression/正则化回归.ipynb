{
 "cells": [
  {
   "cell_type": "markdown",
   "id": "fca18189",
   "metadata": {},
   "source": [
    "# 正则化回归"
   ]
  },
  {
   "cell_type": "markdown",
   "id": "878ad9fe",
   "metadata": {},
   "source": [
    "## 模型\n",
    "\n",
    "给回归拟合加入惩罚项，防止过拟合\n",
    "\n",
    "分为\n",
    "\n",
    "- Lasson 回归: 使用 L1 正则项\n",
    "\n",
    "- 岭回归: 使用 L2 正则项\n"
   ]
  }
 ],
 "metadata": {
  "language_info": {
   "name": "python"
  }
 },
 "nbformat": 4,
 "nbformat_minor": 5
}
