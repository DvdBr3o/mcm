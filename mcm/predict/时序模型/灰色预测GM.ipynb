{
 "cells": [
  {
   "cell_type": "markdown",
   "id": "73745aa2",
   "metadata": {},
   "source": [
    "# 灰色预测 GM"
   ]
  },
  {
   "cell_type": "markdown",
   "id": "757d70a4",
   "metadata": {},
   "source": [
    "## 模型\n",
    "\n",
    "在时序模型中，已知不完全信息 (灰色), 通过 $GM(k, n)$ 建立模型对未来进行预测\n",
    "\n",
    "其中 $GM(1, 1)$ 是最常用的灰色预测模型\n",
    "\n",
    "适用于\n",
    "\n",
    "- **贫数据**\n",
    "\n",
    "- **短预测**\n",
    "\n",
    "- 有明显**指数增长**趋势"
   ]
  },
  {
   "cell_type": "markdown",
   "id": "b105af16",
   "metadata": {},
   "source": [
    "## 实现"
   ]
  },
  {
   "cell_type": "code",
   "execution_count": 4,
   "id": "2014d4fd",
   "metadata": {},
   "outputs": [],
   "source": [
    "import numpy as np\n",
    "\n",
    "#! 修改导入数据\n",
    "data = np.array([1, 2, 3, 5, 10])"
   ]
  },
  {
   "cell_type": "markdown",
   "id": "ca4f4c75",
   "metadata": {},
   "source": [
    "### 模型检验\n",
    "\n",
    "检验原始数据是否满足**准指数规律**，采用**级比检验**\n",
    "\n",
    "级比\n",
    "\n",
    "$$\n",
    "\\sigma (k) = \\frac{x^{(r)}(k)}{x^{(r)}(k-1)}\n",
    "$$"
   ]
  },
  {
   "cell_type": "code",
   "execution_count": null,
   "id": "fa8624ef",
   "metadata": {},
   "outputs": [],
   "source": []
  },
  {
   "cell_type": "markdown",
   "id": "f1fa764e",
   "metadata": {},
   "source": [
    "### 拟合预测"
   ]
  },
  {
   "cell_type": "code",
   "execution_count": null,
   "id": "fab738d6",
   "metadata": {},
   "outputs": [],
   "source": []
  },
  {
   "cell_type": "markdown",
   "id": "03fa59a3",
   "metadata": {},
   "source": [
    "#"
   ]
  }
 ],
 "metadata": {
  "kernelspec": {
   "display_name": "mcm",
   "language": "python",
   "name": "python3"
  },
  "language_info": {
   "codemirror_mode": {
    "name": "ipython",
    "version": 3
   },
   "file_extension": ".py",
   "mimetype": "text/x-python",
   "name": "python",
   "nbconvert_exporter": "python",
   "pygments_lexer": "ipython3",
   "version": "3.13.2"
  }
 },
 "nbformat": 4,
 "nbformat_minor": 5
}
