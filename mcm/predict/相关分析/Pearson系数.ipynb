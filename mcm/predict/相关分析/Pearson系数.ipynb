{
 "cells": [
  {
   "cell_type": "markdown",
   "id": "51d306df",
   "metadata": {},
   "source": [
    "# Pearson 系数"
   ]
  },
  {
   "cell_type": "markdown",
   "id": "acc5e550",
   "metadata": {},
   "source": [
    "## 模型\n",
    "\n",
    "**当且仅当**符合以下三种条件时可以用 Pearson 系数检验相关性\n",
    "\n",
    "- 连续数据\n",
    "\n",
    "- 正态分布\n",
    "\n",
    "- 线性相关"
   ]
  },
  {
   "cell_type": "markdown",
   "id": "c1c21d2b",
   "metadata": {},
   "source": [
    "## 实现"
   ]
  },
  {
   "cell_type": "code",
   "execution_count": 3,
   "id": "1220e2b4",
   "metadata": {},
   "outputs": [],
   "source": [
    "import numpy as np\n",
    "\n",
    "#! 修改输入数据\n",
    "datax = np.array([1, 2, 3, 4, 5, 6, 7, 8, 9, 10])\n",
    "datay = np.array([2, 4, 6, 8, 10, 11, 14, 17, 18, 20])"
   ]
  },
  {
   "cell_type": "code",
   "execution_count": 4,
   "id": "3fe3e639",
   "metadata": {},
   "outputs": [
    {
     "name": "stdout",
     "output_type": "stream",
     "text": [
      "Pearson 系数: 0.9971259948243083\n",
      "p 值: 2.9746073984856677e-10\n"
     ]
    }
   ],
   "source": [
    "from scipy import stats\n",
    "\n",
    "pearson_corr, pval = stats.pearsonr(datax, datay)\n",
    "\n",
    "print(f\"Pearson 系数: {pearson_corr}\")\n",
    "print(f\"p 值: {pval}\")"
   ]
  }
 ],
 "metadata": {
  "kernelspec": {
   "display_name": "mcm",
   "language": "python",
   "name": "python3"
  },
  "language_info": {
   "codemirror_mode": {
    "name": "ipython",
    "version": 3
   },
   "file_extension": ".py",
   "mimetype": "text/x-python",
   "name": "python",
   "nbconvert_exporter": "python",
   "pygments_lexer": "ipython3",
   "version": "3.13.2"
  }
 },
 "nbformat": 4,
 "nbformat_minor": 5
}
