{
 "cells": [
  {
   "cell_type": "markdown",
   "id": "4bfac057",
   "metadata": {},
   "source": [
    "# Kendall 系数"
   ]
  },
  {
   "cell_type": "markdown",
   "id": "0ad9bc82",
   "metadata": {},
   "source": [
    "## 模型\n",
    "\n",
    "当不满足 [Pearson 系数](./Pearson系数.ipynb) 的三大条件时，也可以采用 Kendall 系数\n",
    "\n",
    "Kendall 系数也是一种非参数方法，用于衡量单调关系的强度，它基于一致对和不一致对"
   ]
  },
  {
   "cell_type": "markdown",
   "id": "f4109d37",
   "metadata": {},
   "source": [
    "## 实现"
   ]
  },
  {
   "cell_type": "code",
   "execution_count": 1,
   "id": "e4204fbd",
   "metadata": {},
   "outputs": [],
   "source": [
    "import numpy as np\n",
    "\n",
    "#! 修改输入数据\n",
    "datax = np.array([1, 2, 3, 4, 5, 6, 7, 8, 9, 10])\n",
    "datay = np.array([2, 4, 6, 8, 10, 11, 14, 17, 18, 20])"
   ]
  },
  {
   "cell_type": "code",
   "execution_count": 2,
   "id": "91ffe65c",
   "metadata": {},
   "outputs": [
    {
     "name": "stdout",
     "output_type": "stream",
     "text": [
      "Kendall 系数: 0.9999999999999999\n",
      "p 值: 5.511463844797178e-07\n"
     ]
    }
   ],
   "source": [
    "from scipy import stats\n",
    "\n",
    "kendall_corr, pval = stats.kendalltau(datax, datay)\n",
    "\n",
    "print(f\"Kendall 系数: {kendall_corr}\")\n",
    "print(f\"p 值: {pval}\")"
   ]
  }
 ],
 "metadata": {
  "kernelspec": {
   "display_name": "mcm",
   "language": "python",
   "name": "python3"
  },
  "language_info": {
   "codemirror_mode": {
    "name": "ipython",
    "version": 3
   },
   "file_extension": ".py",
   "mimetype": "text/x-python",
   "name": "python",
   "nbconvert_exporter": "python",
   "pygments_lexer": "ipython3",
   "version": "3.13.2"
  }
 },
 "nbformat": 4,
 "nbformat_minor": 5
}
