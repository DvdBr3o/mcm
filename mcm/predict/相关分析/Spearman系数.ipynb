{
 "cells": [
  {
   "cell_type": "markdown",
   "id": "9f0e831a",
   "metadata": {},
   "source": [
    "# Spearman 系数"
   ]
  },
  {
   "cell_type": "markdown",
   "id": "34903f24",
   "metadata": {},
   "source": [
    "## 模型\n",
    "\n",
    "当不满足 [Pearson 系数](./Pearson系数.ipynb) 的三大条件时，可以采用 Spearman 系数\n",
    "\n",
    "Spearman 系数关注单调关系的强度，基于数据的秩次 (排名)"
   ]
  },
  {
   "cell_type": "markdown",
   "id": "1100bb32",
   "metadata": {},
   "source": [
    "## 实现"
   ]
  },
  {
   "cell_type": "code",
   "execution_count": 3,
   "id": "d5e8d2a9",
   "metadata": {},
   "outputs": [],
   "source": [
    "import numpy as np\n",
    "\n",
    "#! 修改输入数据\n",
    "datax = np.array([1, 2, 3, 4, 5, 6, 7, 8, 9, 10])\n",
    "datay = np.array([2, 4, 6, 8, 10, 11, 14, 17, 18, 20])"
   ]
  },
  {
   "cell_type": "code",
   "execution_count": 4,
   "id": "1489fee0",
   "metadata": {},
   "outputs": [
    {
     "name": "stdout",
     "output_type": "stream",
     "text": [
      "Spearman 系数: 0.9999999999999999\n",
      "p 值: 6.646897422032013e-64\n"
     ]
    }
   ],
   "source": [
    "from scipy import stats\n",
    "\n",
    "spearman_corr, pval = stats.spearmanr(datax, datay)\n",
    "\n",
    "print(f\"Spearman 系数: {spearman_corr}\")\n",
    "print(f\"p 值: {pval}\")"
   ]
  }
 ],
 "metadata": {
  "kernelspec": {
   "display_name": "mcm",
   "language": "python",
   "name": "python3"
  },
  "language_info": {
   "codemirror_mode": {
    "name": "ipython",
    "version": 3
   },
   "file_extension": ".py",
   "mimetype": "text/x-python",
   "name": "python",
   "nbconvert_exporter": "python",
   "pygments_lexer": "ipython3",
   "version": "3.13.2"
  }
 },
 "nbformat": 4,
 "nbformat_minor": 5
}
