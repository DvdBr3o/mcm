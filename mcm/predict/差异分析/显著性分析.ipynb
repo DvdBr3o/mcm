{
 "cells": [
  {
   "cell_type": "markdown",
   "id": "97815724",
   "metadata": {},
   "source": [
    "# 显著性分析"
   ]
  },
  {
   "cell_type": "markdown",
   "id": "8aed934b",
   "metadata": {},
   "source": [
    "## 模型"
   ]
  },
  {
   "cell_type": "markdown",
   "id": "1c214b49",
   "metadata": {},
   "source": [
    "## 实现"
   ]
  },
  {
   "cell_type": "markdown",
   "id": "4c9acea2",
   "metadata": {},
   "source": [
    "### T 检验\n",
    "\n",
    "用于检验 2 组数据**均值**是否存在显著差异"
   ]
  },
  {
   "cell_type": "code",
   "execution_count": 46,
   "id": "a9967724",
   "metadata": {},
   "outputs": [
    {
     "name": "stdout",
     "output_type": "stream",
     "text": [
      "T 检验的 p 值: 0.9210029608619444\n"
     ]
    }
   ],
   "source": [
    "import numpy as np\n",
    "from scipy import stats\n",
    "\n",
    "#! 修改输入数据\n",
    "data1 = np.array([1, 2, 3, 4, 5])\n",
    "data2 = data1 + np.random.normal(0, 0.1, data1.size)\n",
    "\n",
    "t_statistics, t_pval = stats.ttest_ind(data1, data2)\n",
    "print(f\"T 检验的 p 值: {t_pval}\")"
   ]
  },
  {
   "cell_type": "markdown",
   "id": "0da9e143",
   "metadata": {},
   "source": [
    "### F 检验\n",
    "\n",
    "aka. 方差分析/ANOVA\n",
    "\n",
    "用于比较 $\\geq 3$ 组数据**均值**是否存在显著差异"
   ]
  },
  {
   "cell_type": "code",
   "execution_count": 47,
   "id": "dabbfbca",
   "metadata": {},
   "outputs": [
    {
     "name": "stdout",
     "output_type": "stream",
     "text": [
      "F 检验(方差分析/ANOVA)的 p 值: 0.9961304656567632\n"
     ]
    }
   ],
   "source": [
    "import numpy as np\n",
    "from scipy import stats\n",
    "\n",
    "#! 修改输入数据\n",
    "data1 = np.array([1, 2, 3, 4, 5])\n",
    "data2 = data1 + np.random.normal(0, 0.1, data1.size)\n",
    "data3 = data2 + np.random.normal(0, 0.5, data1.size)\n",
    "\n",
    "t_statistics, t_pval = stats.ttest_ind(data1, data2)\n",
    "\n",
    "f_statistics, f_pval = stats.f_oneway(data1, data2, data3)\n",
    "print(f\"F 检验(方差分析/ANOVA)的 p 值: {f_pval}\")"
   ]
  },
  {
   "cell_type": "markdown",
   "id": "dc9d0525",
   "metadata": {},
   "source": [
    "### 卡方检验\n",
    "\n",
    "用于检验两个分类变量是否**独立**\n",
    "\n",
    "基于观察频数和期望频数的差异来工作"
   ]
  },
  {
   "cell_type": "code",
   "execution_count": 48,
   "id": "a17702d8",
   "metadata": {},
   "outputs": [
    {
     "name": "stdout",
     "output_type": "stream",
     "text": [
      "卡方检验的 p 值: 8.454534403285105e-12\n"
     ]
    }
   ],
   "source": [
    "import numpy as np\n",
    "from scipy import stats\n",
    "\n",
    "#! 修改输入数据\n",
    "# 观察频数\n",
    "# 行为不同分类变量，列为统一分类变量下不同类别的频数\n",
    "obs = np.array([\n",
    "    [10, 20, 30, 40], # 分类变量 1\n",
    "    [30, 20, 1, 6], # 分类变量 2\n",
    "])\n",
    "\n",
    "chi2, p, dof, expected = stats.chi2_contingency(obs)\n",
    "print(f\"卡方检验的 p 值: {p}\") "
   ]
  }
 ],
 "metadata": {
  "kernelspec": {
   "display_name": "mcm",
   "language": "python",
   "name": "python3"
  },
  "language_info": {
   "codemirror_mode": {
    "name": "ipython",
    "version": 3
   },
   "file_extension": ".py",
   "mimetype": "text/x-python",
   "name": "python",
   "nbconvert_exporter": "python",
   "pygments_lexer": "ipython3",
   "version": "3.13.2"
  }
 },
 "nbformat": 4,
 "nbformat_minor": 5
}
