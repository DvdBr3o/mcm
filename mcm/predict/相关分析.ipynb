{
 "cells": [
  {
   "cell_type": "markdown",
   "id": "2604a5c3",
   "metadata": {},
   "source": [
    "# 相关分析"
   ]
  },
  {
   "cell_type": "markdown",
   "id": "295b9720",
   "metadata": {},
   "source": [
    "根据相关系数检验变量间的相关性\n",
    "\n",
    "- [Pearson 系数](./相关分析/Pearson系数.ipynb)\n",
    "\n",
    "- [Spearman 系数](./相关分析/Spearman系数.ipynb)\n",
    "\n",
    "- [Kendall 系数](./相关分析/Kendall系数.ipynb)"
   ]
  }
 ],
 "metadata": {
  "language_info": {
   "name": "python"
  }
 },
 "nbformat": 4,
 "nbformat_minor": 5
}
