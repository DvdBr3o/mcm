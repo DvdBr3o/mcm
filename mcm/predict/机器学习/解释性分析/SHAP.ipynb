{
 "cells": [
  {
   "cell_type": "markdown",
   "id": "ef01c347",
   "metadata": {},
   "source": [
    "# SHAP"
   ]
  },
  {
   "cell_type": "markdown",
   "id": "3752123e",
   "metadata": {},
   "source": [
    "## 模型\n",
    "\n",
    "1. 算定输出的一个基准预测值\n",
    "\n",
    "2. 从基准值推高到一个较高值，计算每个指标在其中的贡献度\n",
    "\n",
    "相比 [LIME](./LIME.ipynb) 更加全局"
   ]
  },
  {
   "cell_type": "markdown",
   "id": "83162845",
   "metadata": {},
   "source": [
    "## 实现"
   ]
  }
 ],
 "metadata": {
  "language_info": {
   "name": "python"
  }
 },
 "nbformat": 4,
 "nbformat_minor": 5
}
