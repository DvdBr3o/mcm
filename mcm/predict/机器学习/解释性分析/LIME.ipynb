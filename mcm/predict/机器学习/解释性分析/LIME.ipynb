{
 "cells": [
  {
   "cell_type": "markdown",
   "id": "b8be72fe",
   "metadata": {},
   "source": [
    "# LIME"
   ]
  },
  {
   "cell_type": "markdown",
   "id": "4db80bde",
   "metadata": {},
   "source": [
    "## 模型\n",
    "\n",
    "1. 对主观异常点周围**局部**产生多个输入向量 (扰动)\n",
    "\n",
    "2. 输入黑箱模型得到结果作为训练集\n",
    "\n",
    "3. 训练出一个简单的线性回归模型\n",
    "\n",
    "4. 从线性模型观察是哪个指标造成主观上的异常影响 (类似于敏感性分析)"
   ]
  },
  {
   "cell_type": "markdown",
   "id": "e3ecc269",
   "metadata": {},
   "source": [
    "## 实现"
   ]
  },
  {
   "cell_type": "code",
   "execution_count": null,
   "id": "d919789c",
   "metadata": {},
   "outputs": [],
   "source": []
  }
 ],
 "metadata": {
  "kernelspec": {
   "display_name": "mcm",
   "language": "python",
   "name": "python3"
  },
  "language_info": {
   "name": "python",
   "version": "3.13.2"
  }
 },
 "nbformat": 4,
 "nbformat_minor": 5
}
