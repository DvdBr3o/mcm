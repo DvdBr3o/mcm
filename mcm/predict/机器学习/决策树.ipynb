{
 "cells": [
  {
   "cell_type": "markdown",
   "id": "01701c87",
   "metadata": {},
   "source": [
    "# 决策树"
   ]
  },
  {
   "cell_type": "markdown",
   "id": "3eb1d281",
   "metadata": {},
   "source": [
    "## 模型\n",
    "\n",
    "属于白箱模型"
   ]
  }
 ],
 "metadata": {
  "language_info": {
   "name": "python"
  }
 },
 "nbformat": 4,
 "nbformat_minor": 5
}
