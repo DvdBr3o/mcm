{
 "cells": [
  {
   "cell_type": "markdown",
   "id": "01701c87",
   "metadata": {},
   "source": [
    "# 决策树"
   ]
  },
  {
   "cell_type": "markdown",
   "id": "3eb1d281",
   "metadata": {},
   "source": [
    "## 模型\n",
    "\n",
    "属于白箱模型"
   ]
  },
  {
   "cell_type": "markdown",
   "id": "10b5e5c5",
   "metadata": {},
   "source": [
    "## 实现"
   ]
  },
  {
   "cell_type": "code",
   "execution_count": 11,
   "id": "6e84069a",
   "metadata": {},
   "outputs": [],
   "source": [
    "import numpy as np\n",
    "\n",
    "#! 修改输入数据\n",
    "data = np.array([\n",
    "    [\"dog\", 1.5, 4, 1, 0],\n",
    "    [\"dog\", 1.1, 4, 1, 0],\n",
    "    [\"cat\", 9.9, 4, 0, 1],\n",
    "    [\"dog\", 1.9, 4, 1, 0],\n",
    "    [\"dog\", 0.9, 4, 1, 0],\n",
    "    [\"cat\", 8.8, 4, 0, 1],\n",
    "    [\"dog\", 1.0, 4, 1, 0],\n",
    "    [\"cat\", 7.2, 4, 1, 0],\n",
    "])\n",
    "TRAIN_SET_RATIO = 0.8\n",
    "TRAIN_SET_SIZE = int(data.shape[0] * TRAIN_SET_RATIO)"
   ]
  },
  {
   "cell_type": "markdown",
   "id": "03e54620",
   "metadata": {},
   "source": [
    "### 拟合"
   ]
  },
  {
   "cell_type": "code",
   "execution_count": null,
   "id": "c47830c8",
   "metadata": {},
   "outputs": [
    {
     "name": "stdout",
     "output_type": "stream",
     "text": [
      "[['1.5' '4' '1' '0']\n",
      " ['1.1' '4' '1' '0']\n",
      " ['9.9' '4' '0' '1']\n",
      " ['1.9' '4' '1' '0']\n",
      " ['0.9' '4' '1' '0']\n",
      " ['8.8' '4' '0' '1']]\n",
      "训练集准确率: 100.0000%\n",
      "决策树具体模型:\n",
      "|--- feature_0 <= 5.35\n",
      "|   |--- class: dog\n",
      "|--- feature_0 >  5.35\n",
      "|   |--- class: cat\n",
      "\n"
     ]
    }
   ],
   "source": [
    "from sklearn.tree import DecisionTreeClassifier, export_text # 回归用 DecisionTreeRegressor\n",
    "from sklearn.metrics import accuracy_score\n",
    "\n",
    "model = DecisionTreeClassifier(random_state=42)\n",
    "\n",
    "model.fit(data[:TRAIN_SET_SIZE, 1:], data[:TRAIN_SET_SIZE, 0])\n",
    "\n",
    "predict = model.predict(data[TRAIN_SET_SIZE:, 1:])\n",
    "\n",
    "acc = accuracy_score(data[TRAIN_SET_SIZE:, 0], predict)\n",
    "print(f\"训练集准确率: {acc:.4%}\")\n",
    "\n",
    "print(f\"决策树具体模型:\\n{export_text(model)}\")"
   ]
  },
  {
   "cell_type": "markdown",
   "id": "1971fb1c",
   "metadata": {},
   "source": [
    "### 预测"
   ]
  }
 ],
 "metadata": {
  "kernelspec": {
   "display_name": "mcm",
   "language": "python",
   "name": "python3"
  },
  "language_info": {
   "codemirror_mode": {
    "name": "ipython",
    "version": 3
   },
   "file_extension": ".py",
   "mimetype": "text/x-python",
   "name": "python",
   "nbconvert_exporter": "python",
   "pygments_lexer": "ipython3",
   "version": "3.13.2"
  }
 },
 "nbformat": 4,
 "nbformat_minor": 5
}
