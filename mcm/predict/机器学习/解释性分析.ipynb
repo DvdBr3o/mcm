{
 "cells": [
  {
   "cell_type": "markdown",
   "id": "2bdbe27c",
   "metadata": {},
   "source": [
    "# 解释性分析"
   ]
  },
  {
   "cell_type": "markdown",
   "id": "f2f4199a",
   "metadata": {},
   "source": [
    "在数模中用到黑箱模型的机器学习模型，要考虑解释性分析\n",
    "\n",
    "常见的事后解释性分析包括\n",
    "\n",
    "- [LIME](./解释性分析/LIME.ipynb)\n",
    "\n",
    "- [SHAP](./解释性分析/SHAP.ipynb)"
   ]
  }
 ],
 "metadata": {
  "language_info": {
   "name": "python"
  }
 },
 "nbformat": 4,
 "nbformat_minor": 5
}
