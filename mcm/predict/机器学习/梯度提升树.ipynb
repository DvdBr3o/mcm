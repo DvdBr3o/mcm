{
 "cells": [
  {
   "cell_type": "markdown",
   "id": "836790a8",
   "metadata": {},
   "source": [
    "# 梯度提升树"
   ]
  },
  {
   "cell_type": "markdown",
   "id": "ec2b07a3",
   "metadata": {},
   "source": [
    "## 模型"
   ]
  }
 ],
 "metadata": {
  "language_info": {
   "name": "python"
  }
 },
 "nbformat": 4,
 "nbformat_minor": 5
}
