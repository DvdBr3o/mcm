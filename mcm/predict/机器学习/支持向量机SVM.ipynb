{
 "cells": [
  {
   "cell_type": "markdown",
   "id": "029bf28f",
   "metadata": {},
   "source": [
    "# 支持向量机 SVM"
   ]
  },
  {
   "cell_type": "markdown",
   "id": "25d026f4",
   "metadata": {},
   "source": [
    "## 模型\n",
    "\n",
    "有监督学习，找出超平面分界解决分类问题，最优超平面根据支持向量决定"
   ]
  },
  {
   "cell_type": "markdown",
   "id": "2ea095ab",
   "metadata": {},
   "source": [
    "## 实现"
   ]
  },
  {
   "cell_type": "code",
   "execution_count": 161,
   "id": "7e229616",
   "metadata": {},
   "outputs": [],
   "source": [
    "import numpy as np\n",
    "\n",
    "#! 修改输入数据\n",
    "# 行为对象，列为指标\n",
    "datax = np.array([\n",
    "    [1, 1.1, 1, 0],\n",
    "    [2, 2.2, 0, 1],\n",
    "    [3, 3.3, 1, 0],\n",
    "    [4, 4.4, 0, 1],\n",
    "    [5, 5.5, 0, 1],\n",
    "    [6, 6.6, 1, 0],\n",
    "    [9, 3.2, 1, 0],\n",
    "    [8, 1.1, 1, 0],\n",
    "])\n",
    "datay = np.array(['f', 'm', 'm', 'm', 'f', 'm', 'm', 'm'])\n",
    "\n",
    "#! 修改模型训练超参数\n",
    "# 训练集比值\n",
    "TRAIN_SET_RATIO = 0.8"
   ]
  },
  {
   "cell_type": "markdown",
   "id": "1e4d597b",
   "metadata": {},
   "source": [
    "### 拟合"
   ]
  },
  {
   "cell_type": "code",
   "execution_count": 162,
   "id": "ffd3f91e",
   "metadata": {},
   "outputs": [
    {
     "name": "stdout",
     "output_type": "stream",
     "text": [
      "模型根据训练集评估得分(分类时是评分，回归时是R^2):  1.0\n"
     ]
    }
   ],
   "source": [
    "from sklearn.svm import SVC # 回归则用 SVR\n",
    "from sklearn.preprocessing import StandardScaler\n",
    "\n",
    "# 标准化\n",
    "std = StandardScaler()\n",
    "x_std = std.fit_transform(datax)\n",
    "\n",
    "train_size = int(x_std.shape[0] * TRAIN_SET_RATIO)\n",
    "train_x, test_x = x_std[:train_size, :], x_std[train_size:, :]\n",
    "train_y, test_y = datay[:train_size], datay[train_size:]\n",
    "\n",
    "model = SVC(\n",
    "    C=2,\n",
    "    kernel='linear', # 通常选用线性核，更具解释性\n",
    ")\n",
    "\n",
    "model.fit(train_x, train_y)\n",
    "\n",
    "print(\"模型根据训练集评估得分(分类时是评分，回归时是R^2): \", model.score(test_x, test_y))"
   ]
  },
  {
   "cell_type": "markdown",
   "id": "aa5ef532",
   "metadata": {},
   "source": [
    "### 模型选参\n",
    "\n",
    "SVM 对参数敏感，需要谨慎选参\n",
    "\n",
    "可以使用网格搜索进行自动选参，并进行交叉验证\n",
    "\n",
    "网格搜索就是排列组合所有方案，选出最优"
   ]
  },
  {
   "cell_type": "code",
   "execution_count": 163,
   "id": "7ae551fb",
   "metadata": {},
   "outputs": [
    {
     "name": "stdout",
     "output_type": "stream",
     "text": [
      "最优参数选择: {'C': 0.01, 'kernel': 'linear'}\n",
      "最优方案得分: 0.75\n"
     ]
    }
   ],
   "source": [
    "from sklearn.model_selection import GridSearchCV\n",
    "\n",
    "#! 修改网格搜索方案选择\n",
    "params = {\n",
    "    'kernel': ('linear', 'rbf', 'poly'),\n",
    "    'C': [0.01, 0.1, 0.5, 1, 2, 10, 100],\n",
    "}\n",
    "\n",
    "model_select = GridSearchCV(\n",
    "    # 待选参模型\n",
    "    model, \n",
    "    # 方案\n",
    "    param_grid=params, \n",
    "    # 交叉验证折数\n",
    "    cv=2,\n",
    "    error_score='raise',\n",
    ")\n",
    "model_select.fit(datax, datay)\n",
    "\n",
    "print(f\"最优参数选择: {model_select.best_params_}\")\n",
    "print(f\"最优方案得分: {model_select.best_score_}\")"
   ]
  },
  {
   "cell_type": "markdown",
   "id": "52c7360c",
   "metadata": {},
   "source": [
    "### 预测"
   ]
  },
  {
   "cell_type": "code",
   "execution_count": 164,
   "id": "42eeefc3",
   "metadata": {},
   "outputs": [
    {
     "name": "stdout",
     "output_type": "stream",
     "text": [
      "预测结果: ['m']\n"
     ]
    }
   ],
   "source": [
    "#\n",
    "#! 修改预测数据\n",
    "newx = np.array([\n",
    "    [15, 2.1, 0, 1],\n",
    "])\n",
    "\n",
    "result = model.predict(newx)\n",
    "\n",
    "print(f\"预测结果: {result}\")"
   ]
  },
  {
   "cell_type": "markdown",
   "id": "35bb8394",
   "metadata": {},
   "source": [
    "### 解释性\n",
    "\n",
    "只有当 `kernal='linear'` 时，SVM 才具有解释性"
   ]
  },
  {
   "cell_type": "code",
   "execution_count": 165,
   "id": "50360a2a",
   "metadata": {},
   "outputs": [
    {
     "name": "stdout",
     "output_type": "stream",
     "text": [
      "各指标在线性核 SVM 决策中的权重: [ 1.36570226e-07  2.12587518e-07  6.78694772e-17 -6.78694772e-17]\n"
     ]
    }
   ],
   "source": [
    "weights = model.coef_[0]\n",
    "\n",
    "print(f\"各指标在线性核 SVM 决策中的权重: {weights}\")"
   ]
  },
  {
   "cell_type": "markdown",
   "id": "119becf2",
   "metadata": {},
   "source": [
    "当然使用非线性核时，也可以用 [事后解释性工具](../机器学习/解释性分析.ipynb) 进行解释"
   ]
  }
 ],
 "metadata": {
  "kernelspec": {
   "display_name": "mcm",
   "language": "python",
   "name": "python3"
  },
  "language_info": {
   "codemirror_mode": {
    "name": "ipython",
    "version": 3
   },
   "file_extension": ".py",
   "mimetype": "text/x-python",
   "name": "python",
   "nbconvert_exporter": "python",
   "pygments_lexer": "ipython3",
   "version": "3.13.2"
  }
 },
 "nbformat": 4,
 "nbformat_minor": 5
}
