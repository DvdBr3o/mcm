{
 "cells": [
  {
   "cell_type": "markdown",
   "id": "029bf28f",
   "metadata": {},
   "source": [
    "# 支持向量机 SVM"
   ]
  },
  {
   "cell_type": "markdown",
   "id": "25d026f4",
   "metadata": {},
   "source": [
    "## 模型"
   ]
  }
 ],
 "metadata": {
  "language_info": {
   "name": "python"
  }
 },
 "nbformat": 4,
 "nbformat_minor": 5
}
