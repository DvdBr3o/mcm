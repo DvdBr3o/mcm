{
 "cells": [
  {
   "cell_type": "markdown",
   "id": "d907a012",
   "metadata": {},
   "source": [
    "# 随机森林"
   ]
  },
  {
   "cell_type": "markdown",
   "id": "5359c18f",
   "metadata": {},
   "source": [
    "## 模型\n",
    "\n",
    "弱分类器 + 回归器 (通常是[决策树](./决策树.ipynb))"
   ]
  },
  {
   "cell_type": "markdown",
   "id": "76df15d0",
   "metadata": {},
   "source": [
    "## 实现"
   ]
  },
  {
   "cell_type": "code",
   "execution_count": null,
   "id": "e90913fb",
   "metadata": {},
   "outputs": [],
   "source": [
    "import numpy as np\n",
    "\n"
   ]
  },
  {
   "cell_type": "markdown",
   "id": "80f9ee0c",
   "metadata": {},
   "source": [
    "### 拟合"
   ]
  },
  {
   "cell_type": "code",
   "execution_count": null,
   "id": "dc4ac72a",
   "metadata": {},
   "outputs": [],
   "source": [
    "from sklearn.ensemble import RandomForestClassifier\n",
    "\n",
    "# ..."
   ]
  }
 ],
 "metadata": {
  "kernelspec": {
   "display_name": "mcm",
   "language": "python",
   "name": "python3"
  },
  "language_info": {
   "name": "python",
   "version": "3.13.2"
  }
 },
 "nbformat": 4,
 "nbformat_minor": 5
}
