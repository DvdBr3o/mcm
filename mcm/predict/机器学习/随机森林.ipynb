{
 "cells": [
  {
   "cell_type": "markdown",
   "id": "d907a012",
   "metadata": {},
   "source": [
    "# 随机森林"
   ]
  },
  {
   "cell_type": "markdown",
   "id": "5359c18f",
   "metadata": {},
   "source": [
    "## 模型\n",
    "\n",
    "弱分类器 + 回归器 (通常是[决策树](./决策树.ipynb))"
   ]
  }
 ],
 "metadata": {
  "language_info": {
   "name": "python"
  }
 },
 "nbformat": 4,
 "nbformat_minor": 5
}
