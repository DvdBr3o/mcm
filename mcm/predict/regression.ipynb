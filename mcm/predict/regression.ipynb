{
 "cells": [
  {
   "cell_type": "markdown",
   "id": "f39fcf2d",
   "metadata": {},
   "source": [
    "# 回归"
   ]
  },
  {
   "cell_type": "markdown",
   "id": "a668a364",
   "metadata": {},
   "source": [
    "根据已有训练集推测变量关系，并用预测的分析方法\n",
    "\n",
    "包括:\n",
    "\n",
    "- [线性回归](./regression/线性回归.ipynb)\n",
    "\n",
    "- [非线性回归](./regression/非线性回归.ipynb)"
   ]
  }
 ],
 "metadata": {
  "language_info": {
   "name": "python"
  }
 },
 "nbformat": 4,
 "nbformat_minor": 5
}
