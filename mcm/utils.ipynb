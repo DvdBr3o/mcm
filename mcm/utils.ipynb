{
 "cells": [
  {
   "cell_type": "markdown",
   "id": "3c3b3d99",
   "metadata": {},
   "source": [
    "# 工具杂项"
   ]
  },
  {
   "cell_type": "markdown",
   "id": "9a26461a",
   "metadata": {},
   "source": [
    "- [数据处理](./utils/数据处理.ipynb)\n",
    "\n",
    "- [`matplotlib` 中文支持](./utils/matplotlib中文支持.ipynb)"
   ]
  }
 ],
 "metadata": {
  "language_info": {
   "name": "python"
  }
 },
 "nbformat": 4,
 "nbformat_minor": 5
}
